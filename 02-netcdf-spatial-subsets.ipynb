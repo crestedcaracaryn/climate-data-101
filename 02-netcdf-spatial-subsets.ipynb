{
 "cells": [
  {
   "cell_type": "markdown",
   "metadata": {},
   "source": [
    "<img style=\"float: left;\" src=\"earth-lab-logo-rgb.png\" width=\"150\" height=\"150\" />\n",
    "\n",
    "# Earth Analytics Education - Climate 101 Workshop"
   ]
  },
  {
   "cell_type": "markdown",
   "metadata": {},
   "source": [
    "<div class='notice--success' markdown=\"1\">\n",
    "\n",
    "## <i class=\"fa fa-ship\" aria-hidden=\"true\"></i>  NETCDF 4 Climate Data in Open Source Python \n",
    "\n",
    "In this lesson, you will learn how to work with Climate Data Sets (MACA v2 for the United states) stored in netcdf 4 format using open source **Python**.\n",
    "\n",
    "## <i class=\"fa fa-graduation-cap\" aria-hidden=\"true\"></i> Learning Objectives\n",
    "\n",
    "After completing this lesson, you will be able to:\n",
    "\n",
    "* Summarize MACA v 2 climate data stored in netcdf 4 format by seasons across all time periods using `xarray`.\n",
    "* Summarize MACA v 2 climate data stored in netcdf 4 format by seasons and across years using `xarray`.\n",
    "\n",
    "## <i class=\"fa fa-check-square-o fa-2\" aria-hidden=\"true\"></i> What You Need\n",
    "\n",
    "You will need a computer with internet access to complete this lesson and the earth-analytics-python\n",
    "conda environment installed.\n",
    "\n",
    "</div>"
   ]
  },
  {
   "cell_type": "markdown",
   "metadata": {},
   "source": [
    "## Subset MACA 2 Climate Data in NetCDF 4 Format By Time and Spatial Extents\n",
    "\n",
    "In this lesson, you will learn how to subset MACA v2 climate data using the open \n",
    "source Python packages `xarray` and `regionmask`."
   ]
  },
  {
   "cell_type": "code",
   "execution_count": null,
   "metadata": {
    "tags": [
     "hide"
    ]
   },
   "outputs": [],
   "source": [
    "# Make sure ea dir exists - if not create it\n",
    "import warnings\n",
    "import os\n",
    "import earthpy as et\n",
    "ea_path = os.path.join(et.io.HOME, 'earth-analytics', 'data')\n",
    "\n",
    "if not os.path.exists(ea_path):\n",
    "    os.makedirs(ea_path)\n",
    "\n",
    "warnings.filterwarnings(\"ignore\")"
   ]
  },
  {
   "cell_type": "code",
   "execution_count": null,
   "metadata": {},
   "outputs": [],
   "source": [
    "import numpy as np\n",
    "import pandas as pd\n",
    "import matplotlib.pyplot as plt\n",
    "import cartopy.crs as ccrs\n",
    "import cartopy.feature as cfeature\n",
    "import seaborn as sns\n",
    "import geopandas as gpd\n",
    "import earthpy as et\n",
    "import xarray as xr\n",
    "import netCDF4\n",
    "import regionmask\n",
    "\n",
    "\n",
    "# Plotting options\n",
    "sns.set(font_scale=1.3)\n",
    "sns.set_style(\"white\")\n",
    "\n",
    "# Optional - set your working directory if you wish to use the data\n",
    "# accessed lower down in this notebook (the USA state boundary data)\n",
    "os.chdir(os.path.join(et.io.HOME, 'earth-analytics', 'data'))"
   ]
  },
  {
   "cell_type": "markdown",
   "metadata": {},
   "source": [
    "## Spatial Subsets of Data Using an AOI\n",
    "\n",
    "In the previous lesson, you learned how to select a single point and extract \n",
    "temperature data at that location. You can also create areas of interest \n",
    "(AOIs) that define the geographic region that you wish to extract data for. \n",
    "\n",
    "Below you will learn how to use a shapefile that contains a boundary\n",
    "area of interest that you wish to subset data for. You will then learn \n",
    "how to subset the data using the \n",
    "\n",
    "1. geographic boundary extent of the AOI (a rectangular extent) and\n",
    "2. using the actual shape boundary of the AOI (example: the state of California)\n",
    "\n",
    "To begin, you will open up a new netcdf file. This file contains \n",
    "future projected maximum temperature data for the Continental United States(CONUS).  "
   ]
  },
  {
   "cell_type": "code",
   "execution_count": null,
   "metadata": {},
   "outputs": [],
   "source": [
    "# Get netcdf file\n",
    "data_path_monthly = 'http://thredds.northwestknowledge.net:8080/thredds/dodsC/agg_macav2metdata_tasmax_BNU-ESM_r1i1p1_rcp45_2006_2099_CONUS_monthly.nc'\n",
    "\n",
    "# Open up the data\n",
    "with xr.open_dataset(data_path_monthly) as file_nc:\n",
    "    monthly_forecast_temp_xr = file_nc\n",
    "\n",
    "# View xarray object\n",
    "monthly_forecast_temp_xr"
   ]
  },
  {
   "cell_type": "markdown",
   "metadata": {},
   "source": [
    "### Open A Shapefile to Use as an AOI\n",
    "\n",
    "Often you want to subset and summarize climate data by specific regions of \n",
    "interest. In the example below, you will open a natural earth layer that \n",
    "contains state and region boundaries. You will extract a state boundary (California)\n",
    "within the United States to use as an AOI."
   ]
  },
  {
   "cell_type": "code",
   "execution_count": null,
   "metadata": {},
   "outputs": [],
   "source": [
    "# Download natural earth data which contains state boundaries to generate AOI\n",
    "et.data.get_data(\n",
    "    url=\"https://www.naturalearthdata.com/http//www.naturalearthdata.com/download/50m/cultural/ne_50m_admin_1_states_provinces_lakes.zip\")\n",
    "\n",
    "states_path = \"earthpy-downloads/ne_50m_admin_1_states_provinces_lakes\"\n",
    "states_path = os.path.join(\n",
    "    states_path, \"ne_50m_admin_1_states_provinces_lakes.shp\")\n",
    "\n",
    "states_gdf = gpd.read_file(states_path)\n",
    "states_gdf.head()"
   ]
  },
  {
   "cell_type": "code",
   "execution_count": null,
   "metadata": {},
   "outputs": [],
   "source": [
    "# You will use the bounds to determine the slice values for this data\n",
    "# Select any state in the CONUS that you wish here! California is the default\n",
    "cali_aoi = states_gdf[states_gdf.name == \"California\"]\n",
    "# Get the total spatial extent for California\n",
    "cali_aoi.total_bounds"
   ]
  },
  {
   "cell_type": "markdown",
   "metadata": {},
   "source": [
    "Next, convert the bounds of your AOI into the min and max longitude\n",
    "and latitude values. You will use these values to `slice` your data."
   ]
  },
  {
   "cell_type": "code",
   "execution_count": null,
   "metadata": {},
   "outputs": [],
   "source": [
    "# Get lat min, max\n",
    "aoi_lat = [float(cali_aoi.total_bounds[1]), float(cali_aoi.total_bounds[3])]\n",
    "aoi_lon = [float(cali_aoi.total_bounds[0]), float(cali_aoi.total_bounds[2])]\n",
    "# Notice that the longitude values have negative numbers\n",
    "# we need these values in a global crs so we can subtract from 360\n",
    "aoi_lat, aoi_lon"
   ]
  },
  {
   "cell_type": "markdown",
   "metadata": {},
   "source": [
    "The netcdf files use a global lat/lon rather than positive and negative\n",
    "longitude values. To ensure you are subsetting the data for the correct\n",
    "region, you can add 360 degrees to each longitude value which represent the \n",
    "min x and max x values for the extent.\n"
   ]
  },
  {
   "cell_type": "code",
   "execution_count": null,
   "metadata": {},
   "outputs": [],
   "source": [
    "# The netcdf files use a global lat/lon so adjust values accordingly\n",
    "aoi_lon[0] = aoi_lon[0] + 360\n",
    "aoi_lon[1] = aoi_lon[1] + 360\n",
    "aoi_lon"
   ]
  },
  {
   "cell_type": "markdown",
   "metadata": {},
   "source": [
    "Once you have your data AOI defined, you can slice out the \n",
    "AOI region using xarray `slice`."
   ]
  },
  {
   "cell_type": "code",
   "execution_count": null,
   "metadata": {},
   "outputs": [],
   "source": [
    "# Slice the data by time and spatial extent\n",
    "start_date = \"2010-01-15\"\n",
    "end_date = \"2010-02-15\"\n",
    "\n",
    "two_months_cali = monthly_forecast_temp_xr[\"air_temperature\"].sel(\n",
    "    time=slice(start_date, end_date),\n",
    "    lon=slice(aoi_lon[0], aoi_lon[1]),\n",
    "    lat=slice(aoi_lat[0], aoi_lat[1]))\n",
    "two_months_cali"
   ]
  },
  {
   "cell_type": "code",
   "execution_count": null,
   "metadata": {
    "caption": "Histogram showing the spread of temperature values over time for the selected MACA 2 max temperature dataset and for the AOI (the spatial extend of california). "
   },
   "outputs": [],
   "source": [
    "# Plot a quick histogram\n",
    "two_months_cali.plot()\n",
    "plt.show()"
   ]
  },
  {
   "cell_type": "markdown",
   "metadata": {},
   "source": [
    "Remember that these data are spatial. Below you \n",
    "plot each time step as a raster dataset. Notice that this spatial extent\n",
    "is a rectangle representing the entire rectangular extent for the \n",
    "state of California."
   ]
  },
  {
   "cell_type": "code",
   "execution_count": null,
   "metadata": {
    "caption": "Spatial plots of monthly maximum temperature for two time steps. Notice that the AOI or spatial extent is a square boundary as you subsetted it above. "
   },
   "outputs": [],
   "source": [
    "# Spatial Plot for the selected AOI (California)\n",
    "two_months_cali.plot(col='time',\n",
    "                     col_wrap=1)\n",
    "\n",
    "plt.show()"
   ]
  },
  {
   "cell_type": "code",
   "execution_count": null,
   "metadata": {},
   "outputs": [],
   "source": [
    "# Only subset by location / not time\n",
    "cali_ts = monthly_forecast_temp_xr[\"air_temperature\"].sel(\n",
    "    lon=slice(aoi_lon[0], aoi_lon[1]),\n",
    "    lat=slice(aoi_lat[0], aoi_lat[1]))\n",
    "cali_ts"
   ]
  },
  {
   "cell_type": "markdown",
   "metadata": {},
   "source": [
    "Calculate a summary of max temperature over time for california"
   ]
  },
  {
   "cell_type": "code",
   "execution_count": null,
   "metadata": {},
   "outputs": [],
   "source": [
    "# Time series plot of max temperature per year. for California\n",
    "# You will get a RuntimeWarning warning here because of nan values...\n",
    "# This is the max value in each pixel across all months for each year\n",
    "cali_annual_max = cali_ts.groupby('time.year').max(skipna=True)\n",
    "cali_annual_max"
   ]
  },
  {
   "cell_type": "markdown",
   "metadata": {},
   "source": [
    "### Calculate Annual Summary Data\n",
    "You can calculate summary values for your aoi using the `.groupby`\n",
    "method. Below you calculate the max value for each raster in the \n",
    "time series \n",
    "\n",
    "`.max([\"lat\", \"lon\"]` tells xarray to calculate the max on the entire raster.\n",
    "\n",
    "the data are grouped by year. \n"
   ]
  },
  {
   "cell_type": "code",
   "execution_count": null,
   "metadata": {},
   "outputs": [],
   "source": [
    "cali_annual_max_val = cali_annual_max.groupby(\"year\").max([\"lat\", \"lon\"])\n",
    "cali_annual_max_val"
   ]
  },
  {
   "cell_type": "code",
   "execution_count": null,
   "metadata": {
    "caption": "Scatter plot showing the annual max temperature as projected in the California from 2009 to 2100 using MACA v2 climate data."
   },
   "outputs": [],
   "source": [
    "# Plot the data\n",
    "f, ax = plt.subplots(figsize=(12, 6))\n",
    "cali_annual_max_val.plot.line(hue='lat',\n",
    "                              marker=\"o\",\n",
    "                              ax=ax,\n",
    "                              color=\"grey\",\n",
    "                              markerfacecolor=\"purple\",\n",
    "                              markeredgecolor=\"purple\")\n",
    "ax.set(title=\"Annual Max Temperature (K) in California\")\n",
    "plt.show()"
   ]
  },
  {
   "cell_type": "markdown",
   "metadata": {},
   "source": [
    "## Subset a netcdf4 Using a Shapefile Feature or Features\n",
    "\n",
    "Above you created a rectangular spatial subset and plotted the data. \n",
    "Sometimes however you may have an AOI that is a specific polygon boundary.\n",
    "Below you will modify your subset to represent just the region of the \n",
    "state of California. You will use the `regionmask` package to create\n",
    "this mask."
   ]
  },
  {
   "cell_type": "code",
   "execution_count": null,
   "metadata": {
    "caption": "Plot showing the area of interest - California."
   },
   "outputs": [],
   "source": [
    "# This is the AOI of interest. You only want to calculate summary values for\n",
    "# pixels within this AOI rather the entire rectangular spatial extent.\n",
    "f, ax = plt.subplots()\n",
    "cali_aoi.plot(ax=ax)\n",
    "ax.set(title=\"California AOI Subset\")\n",
    "\n",
    "plt.show()"
   ]
  },
  {
   "cell_type": "markdown",
   "metadata": {},
   "source": [
    "You will use the cali_aoi object created above to first create a \n",
    "mask."
   ]
  },
  {
   "cell_type": "code",
   "execution_count": null,
   "metadata": {},
   "outputs": [],
   "source": [
    "cali_aoi"
   ]
  },
  {
   "cell_type": "code",
   "execution_count": null,
   "metadata": {},
   "outputs": [],
   "source": [
    "# Create a 3d mask - this contains the true / false values identifying pixels\n",
    "# inside vs outside of the mask region\n",
    "cali_mask = regionmask.mask_3D_geopandas(cali_aoi,\n",
    "                                         monthly_forecast_temp_xr.lon,\n",
    "                                         monthly_forecast_temp_xr.lat)\n",
    "cali_mask"
   ]
  },
  {
   "cell_type": "markdown",
   "metadata": {},
   "source": [
    "To make processing a bit quicker, below you slice out two months of the data."
   ]
  },
  {
   "cell_type": "code",
   "execution_count": null,
   "metadata": {},
   "outputs": [],
   "source": [
    "# Slice out two months of data\n",
    "two_months = monthly_forecast_temp_xr.sel(\n",
    "    time=slice('2099-10-25', '2099-12-15'))"
   ]
  },
  {
   "cell_type": "markdown",
   "metadata": {},
   "source": [
    "Next, apply the mask for just the state of California to the data. "
   ]
  },
  {
   "cell_type": "code",
   "execution_count": null,
   "metadata": {},
   "outputs": [],
   "source": [
    "# Apply the mask for California to the data\n",
    "two_months = two_months.where(cali_mask)\n",
    "two_months"
   ]
  },
  {
   "cell_type": "markdown",
   "metadata": {},
   "source": [
    "Below you can see that the data for only the region of interest - \n",
    "California, is plotted. However, you have a lot of extra white space\n",
    "surrounding the data."
   ]
  },
  {
   "cell_type": "code",
   "execution_count": null,
   "metadata": {
    "caption": "Map showing temperature values where California is masked however the data are not subsetted so you have significant additional white space / no data values in the data."
   },
   "outputs": [],
   "source": [
    "two_months[\"air_temperature\"].plot(col='time',\n",
    "                                   col_wrap=1,\n",
    "                                   figsize=(10, 10))\n",
    "plt.show()"
   ]
  },
  {
   "cell_type": "markdown",
   "metadata": {},
   "source": [
    "If you slice our your data by time and lat lon and apply the mask for your \n",
    "AOI you get the d"
   ]
  },
  {
   "cell_type": "code",
   "execution_count": null,
   "metadata": {},
   "outputs": [],
   "source": [
    "two_months_masked = monthly_forecast_temp_xr[\"air_temperature\"].sel(time=slice('2099-10-25',\n",
    "                                                                               '2099-12-15'),\n",
    "                                                                    lon=slice(aoi_lon[0],\n",
    "                                                                              aoi_lon[1]),\n",
    "                                                                    lat=slice(aoi_lat[0],\n",
    "                                                                              aoi_lat[1])).where(cali_mask)\n",
    "two_months_masked.dims"
   ]
  },
  {
   "cell_type": "code",
   "execution_count": null,
   "metadata": {
    "caption": "Map showing temperature for California after the data have been masked and sliced by AOI."
   },
   "outputs": [],
   "source": [
    "two_months_masked.plot(col='time', col_wrap=1)\n",
    "plt.show()"
   ]
  },
  {
   "cell_type": "markdown",
   "metadata": {},
   "source": [
    "## Workflow with Multiple Regions\n",
    "\n",
    "In the example above, you had one region of interest. Below you will implement a \n",
    "workflow where you have multiple regions. For this example, you will subset multiple states\n",
    "from your shapefile. "
   ]
  },
  {
   "cell_type": "code",
   "execution_count": null,
   "metadata": {
    "caption": "Map showing a new study area containing multiple AOI's which in this case are 4 states in the western United States."
   },
   "outputs": [],
   "source": [
    "# Start by extracting a few states from the states_gdf\n",
    "states_gdf[\"name\"]\n",
    "\n",
    "cali_or_wash_nev = states_gdf[states_gdf.name.isin(\n",
    "    [\"California\", \"Oregon\", \"Washington\", \"Nevada\"])]\n",
    "cali_or_wash_nev.plot()\n",
    "plt.show()"
   ]
  },
  {
   "cell_type": "markdown",
   "metadata": {},
   "source": [
    "Next, create a mask just like you did above. However this time\n",
    "you will use the new extent that contains 4 states (4 regions). "
   ]
  },
  {
   "cell_type": "code",
   "execution_count": null,
   "metadata": {},
   "outputs": [],
   "source": [
    "west_mask = regionmask.mask_3D_geopandas(cali_or_wash_nev,\n",
    "                                         monthly_forecast_temp_xr.lon,\n",
    "                                         monthly_forecast_temp_xr.lat)\n",
    "west_mask"
   ]
  },
  {
   "cell_type": "markdown",
   "metadata": {},
   "source": [
    "Below is a small helper function that grabs the AOI from a shapefile and \n",
    "returns a dictionary that you can use to slice your data. "
   ]
  },
  {
   "cell_type": "code",
   "execution_count": null,
   "metadata": {},
   "outputs": [],
   "source": [
    "def get_aoi(shp, world=True):\n",
    "    \"\"\"Takes a geopandas object and converts it to a lat/ lon\n",
    "    extent \n",
    "\n",
    "    Parameters\n",
    "    -----------\n",
    "    shp : geopandas object\n",
    "    world : boolean\n",
    "\n",
    "    Returns\n",
    "    -------\n",
    "    Dictionary of lat and lon spatial bounds\n",
    "    \"\"\"\n",
    "\n",
    "    lon_lat = {}\n",
    "    # Get lat min, max\n",
    "    aoi_lat = [float(shp.total_bounds[1]), float(shp.total_bounds[3])]\n",
    "    aoi_lon = [float(shp.total_bounds[0]), float(shp.total_bounds[2])]\n",
    "\n",
    "    if world:\n",
    "        aoi_lon[0] = aoi_lon[0] + 360\n",
    "        aoi_lon[1] = aoi_lon[1] + 360\n",
    "    lon_lat[\"lon\"] = aoi_lon\n",
    "    lon_lat[\"lat\"] = aoi_lat\n",
    "    return lon_lat\n",
    "\n",
    "\n",
    "west_bounds = get_aoi(cali_or_wash_nev)"
   ]
  },
  {
   "cell_type": "markdown",
   "metadata": {},
   "source": [
    "Similar to your workflow above, you can subset that data as you wish by time and \n",
    "extent. Subsetting the data will make all of your data processing faster!"
   ]
  },
  {
   "cell_type": "code",
   "execution_count": null,
   "metadata": {},
   "outputs": [],
   "source": [
    "# Slice the data\n",
    "start_date = \"2010-01-15\"\n",
    "end_date = \"2010-02-15\"\n",
    "\n",
    "# Subset\n",
    "two_months_west_coast = monthly_forecast_temp_xr[\"air_temperature\"].sel(\n",
    "    time=slice(start_date, end_date),\n",
    "    lon=slice(west_bounds[\"lon\"][0], west_bounds[\"lon\"][1]),\n",
    "    lat=slice(west_bounds[\"lat\"][0], west_bounds[\"lat\"][1]))\n",
    "two_months_west_coast"
   ]
  },
  {
   "cell_type": "markdown",
   "metadata": {},
   "source": [
    "Plot the data."
   ]
  },
  {
   "cell_type": "code",
   "execution_count": null,
   "metadata": {
    "caption": "Map showing temperature data for the entire sliced region of western united states."
   },
   "outputs": [],
   "source": [
    "two_months_west_coast.plot(col=\"time\",\n",
    "                           col_wrap=1,\n",
    "                           figsize=(5, 8))\n",
    "plt.show()"
   ]
  },
  {
   "cell_type": "markdown",
   "metadata": {},
   "source": [
    "Again following the same steps as above, you can apply your\n",
    "spatial mask. This will return a new array with the air\n",
    "temperature data that can be grouped by each of the 4 regions. "
   ]
  },
  {
   "cell_type": "code",
   "execution_count": null,
   "metadata": {},
   "outputs": [],
   "source": [
    "# Apply the mask for the west coast subset\n",
    "two_months_west_coast = two_months_west_coast.where(west_mask)\n",
    "two_months_west_coast.dims"
   ]
  },
  {
   "cell_type": "markdown",
   "metadata": {},
   "source": [
    "By default region mask takes the index of the geopandas \n",
    "object and uses it as a region identifier. If you remember \n",
    "from above, california was 53."
   ]
  },
  {
   "cell_type": "code",
   "execution_count": null,
   "metadata": {},
   "outputs": [],
   "source": [
    "cali_or_wash_nev"
   ]
  },
  {
   "cell_type": "code",
   "execution_count": null,
   "metadata": {},
   "outputs": [],
   "source": [
    "# Note that the region values align with the index of the geodataframe above\n",
    "two_months_west_coast.region"
   ]
  },
  {
   "cell_type": "markdown",
   "metadata": {},
   "source": [
    "Having an additional region dimension in your array makes it easier\n",
    "to summarize your data by region. Below you plot the \n",
    "data by time and region in a matrix. "
   ]
  },
  {
   "cell_type": "code",
   "execution_count": null,
   "metadata": {
    "caption": "Faceted plot showing temperature for each aoi region (on the y axis) and accross time (on the y axis)."
   },
   "outputs": [],
   "source": [
    "two_months_west_coast.plot(col=\"time\",\n",
    "                           row=\"region\",\n",
    "                           sharey=False, sharex=False)\n",
    "plt.show()"
   ]
  },
  {
   "cell_type": "markdown",
   "metadata": {},
   "source": [
    "## Calculate Mean Air Temperature by Region\n",
    "Once you have your data subsetted by region, you can \n",
    "calculate summary statistics on the data for each region. \n",
    "\n",
    "Below, you calculate the mean air temperature value for the \n",
    "time subset that you created above. At this point you could export\n",
    "the dataframe to a csv file if you want!"
   ]
  },
  {
   "cell_type": "code",
   "execution_count": null,
   "metadata": {},
   "outputs": [],
   "source": [
    "summary = two_months_west_coast.groupby(\"time\").mean([\"lat\", \"lon\"])\n",
    "summary.to_dataframe()"
   ]
  },
  {
   "cell_type": "markdown",
   "metadata": {},
   "source": [
    "## The Entire Workflow To Subset netcdf 4 Files by Temporal and Spatial Extents\n",
    "\n",
    "Putting all of the above together, below is an example workflow that you might use to summarize\n",
    "climate data in netcdf 4 format by region and over time. "
   ]
  },
  {
   "cell_type": "code",
   "execution_count": null,
   "metadata": {},
   "outputs": [],
   "source": [
    "# Helper Function to extract AOI\n",
    "def get_aoi(shp, world=True):\n",
    "    \"\"\"Takes a geopandas object and converts it to a lat/ lon\n",
    "    extent \"\"\"\n",
    "\n",
    "    lon_lat = {}\n",
    "    # Get lat min, max\n",
    "    aoi_lat = [float(shp.total_bounds[1]), float(shp.total_bounds[3])]\n",
    "    aoi_lon = [float(shp.total_bounds[0]), float(shp.total_bounds[2])]\n",
    "\n",
    "    # Handle the 0-360 lon values\n",
    "    if world:\n",
    "        aoi_lon[0] = aoi_lon[0] + 360\n",
    "        aoi_lon[1] = aoi_lon[1] + 360\n",
    "    lon_lat[\"lon\"] = aoi_lon\n",
    "    lon_lat[\"lat\"] = aoi_lat\n",
    "    return lon_lat"
   ]
  },
  {
   "cell_type": "code",
   "execution_count": null,
   "metadata": {
    "caption": "Histogram showing all pixels values in the area of interest."
   },
   "outputs": [],
   "source": [
    "# Here is the entire workflow from start to end\n",
    "\n",
    "# Download natural earth data which contains state boundaries to generate AOI\n",
    "et.data.get_data(\n",
    "    url=\"https://www.naturalearthdata.com/http//www.naturalearthdata.com/download/50m/cultural/ne_50m_admin_1_states_provinces_lakes.zip\")\n",
    "\n",
    "states_path = \"earthpy-downloads/ne_50m_admin_1_states_provinces_lakes\"\n",
    "states_path = os.path.join(\n",
    "    states_path, \"ne_50m_admin_1_states_provinces_lakes.shp\")\n",
    "\n",
    "states_gdf = gpd.read_file(states_path)\n",
    "\n",
    "\n",
    "# Get netcdf file\n",
    "data_path_monthly = 'http://thredds.northwestknowledge.net:8080/thredds/dodsC/agg_macav2metdata_tasmax_BNU-ESM_r1i1p1_rcp45_2006_2099_CONUS_monthly.nc'\n",
    "\n",
    "# Open up the data\n",
    "with xr.open_dataset(data_path_monthly) as file_nc:\n",
    "    monthly_forecast_temp_xr = file_nc\n",
    "\n",
    "# View xarray object\n",
    "monthly_forecast_temp_xr\n",
    "\n",
    "# Start by extracting a few states from the states_gdf\n",
    "# I am using this as a shapefile because i presume some of my students\n",
    "# will want to use custom aoi's so i want to teach using a shapefil rather than\n",
    "# the regionmask built in shapes as nice as they are :)\n",
    "states_gdf[\"name\"]\n",
    "\n",
    "cali_or_wash_nev = states_gdf[states_gdf.name.isin(\n",
    "    [\"California\", \"Oregon\", \"Washington\", \"Nevada\"])]\n",
    "\n",
    "west_mask = regionmask.mask_3D_geopandas(cali_or_wash_nev,\n",
    "                                         monthly_forecast_temp_xr.lon,\n",
    "                                         monthly_forecast_temp_xr.lat)\n",
    "west_mask\n",
    "\n",
    "\n",
    "west_bounds = get_aoi(cali_or_wash_nev)\n",
    "\n",
    "\n",
    "# Slice the data\n",
    "start_date = \"2010-01-15\"\n",
    "end_date = \"2020-02-15\"\n",
    "\n",
    "# Subset the data - this is now a dataarray rather than a DataSet\n",
    "two_months_west_coast = monthly_forecast_temp_xr[\"air_temperature\"].sel(\n",
    "    time=slice(start_date, end_date),\n",
    "    lon=slice(west_bounds[\"lon\"][0], west_bounds[\"lon\"][1]),\n",
    "    lat=slice(west_bounds[\"lat\"][0], west_bounds[\"lat\"][1])).where(west_mask)\n",
    "\n",
    "# This output is a dataarray\n",
    "two_months_west_coast\n",
    "\n",
    "# Plot the data - this produces a single histogram\n",
    "two_months_west_coast.plot()\n",
    "plt.show()"
   ]
  },
  {
   "cell_type": "markdown",
   "metadata": {},
   "source": [
    "Once the data are subsetted, you can begin to create plots and dataframes\n",
    "with the summary data. "
   ]
  },
  {
   "cell_type": "code",
   "execution_count": null,
   "metadata": {
    "caption": "Facetted scatter plot showing mean temperature data by region over time"
   },
   "outputs": [],
   "source": [
    "# Keep in mind that as you add more data to your slice, the processing will slow down.\n",
    "regional_summary = two_months_west_coast.groupby(\"region\").mean([\"lat\", \"lon\"])\n",
    "regional_summary.plot(col=\"region\",\n",
    "                      marker=\"o\",\n",
    "                      color=\"grey\",\n",
    "                      markerfacecolor=\"purple\",\n",
    "                      markeredgecolor=\"purple\",\n",
    "                      col_wrap=2)\n",
    "plt.show()"
   ]
  },
  {
   "cell_type": "markdown",
   "metadata": {},
   "source": [
    "Export to a dataframe."
   ]
  },
  {
   "cell_type": "code",
   "execution_count": null,
   "metadata": {},
   "outputs": [],
   "source": [
    "two_months_west_coast.groupby(\"region\").mean([\"lat\", \"lon\"]).to_dataframe()"
   ]
  }
 ],
 "metadata": {
  "celltoolbar": "Tags",
  "kernelspec": {
   "display_name": "Python 3",
   "language": "python",
   "name": "python3"
  },
  "language_info": {
   "codemirror_mode": {
    "name": "ipython",
    "version": 3
   },
   "file_extension": ".py",
   "mimetype": "text/x-python",
   "name": "python",
   "nbconvert_exporter": "python",
   "pygments_lexer": "ipython3",
   "version": "3.8.5"
  },
  "toc": {
   "base_numbering": 1,
   "nav_menu": {},
   "number_sections": true,
   "sideBar": true,
   "skip_h1_title": false,
   "title_cell": "Table of Contents",
   "title_sidebar": "Contents",
   "toc_cell": false,
   "toc_position": {
    "height": "calc(100% - 180px)",
    "left": "10px",
    "top": "150px",
    "width": "285.8px"
   },
   "toc_section_display": true,
   "toc_window_display": true
  }
 },
 "nbformat": 4,
 "nbformat_minor": 4
}
