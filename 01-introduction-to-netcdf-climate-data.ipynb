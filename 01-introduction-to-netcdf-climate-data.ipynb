{
 "cells": [
  {
   "cell_type": "markdown",
   "metadata": {},
   "source": [
    "<img style=\"float: left;\" src=\"earth-lab-logo-rgb.png\" width=\"150\" height=\"150\" />\n",
    "\n",
    "# Earth Analytics Education - Climate 101 Workshop"
   ]
  },
  {
   "cell_type": "markdown",
   "metadata": {},
   "source": [
    "## <i class=\"fa fa-ship\" aria-hidden=\"true\"></i> NETCDF 4 Climate Data in Open Source Python \n",
    "\n",
    "In this lesson, you will learn how to work with Climate Data Sets (MACA v2 for the United states) stored in netcdf 4 format using open source **Python**.\n",
    "\n",
    "\n",
    "## <i class=\"fa fa-graduation-cap\" aria-hidden=\"true\"></i> Learning Objectives\n",
    "\n",
    "After completing this lesson, you will be able to:\n",
    "\n",
    "* Download MACA v2 climate data in `netcdf 4` format\n",
    "* Open and process netcdf4 data using `xarray`\n",
    "* Export climate data in tabular format to `.csv` format\n"
   ]
  },
  {
   "cell_type": "code",
   "execution_count": 1,
   "metadata": {
    "tags": [
     "hide"
    ]
   },
   "outputs": [],
   "source": [
    "# Make sure ea dir exists - if not create it\n",
    "import os\n",
    "import earthpy as et\n",
    "ea_path = os.path.join(et.io.HOME, 'earth-analytics', 'data')\n",
    "\n",
    "if not os.path.exists(ea_path):\n",
    "    os.makedirs(ea_path)"
   ]
  },
  {
   "cell_type": "code",
   "execution_count": 2,
   "metadata": {},
   "outputs": [],
   "source": [
    "import numpy as np\n",
    "import pandas as pd\n",
    "import matplotlib.pyplot as plt\n",
    "import netCDF4\n",
    "import xarray as xr\n",
    "import rioxarray\n",
    "import cartopy.crs as ccrs\n",
    "import cartopy.feature as cfeature\n",
    "import seaborn as sns\n",
    "import geopandas as gpd\n",
    "import earthpy as et\n",
    "\n",
    "# Plotting options\n",
    "sns.set(font_scale=1.3)\n",
    "sns.set_style(\"white\")\n",
    "\n",
    "# Optional - set your working directory if you wish to use the data\n",
    "# accessed lower down in this notebook (the USA state boundary data)\n",
    "os.chdir(os.path.join(et.io.HOME,\n",
    "                      'earth-analytics',\n",
    "                      'data'))"
   ]
  },
  {
   "cell_type": "markdown",
   "metadata": {},
   "source": [
    "## Get Started wtih MACA Version 2 Data Using Open Source Python\n",
    "\n",
    "In this lesson you will work with historic projected MACA 2 data that represents \n",
    "maximum monthly temperature for the Continental United States (CONUS). \n",
    " \n",
    "`agg_macav2metdata_tasmax_BNU-ESM_r1i1p1_historical_1950_2005_CONUS_monthly`\n",
    "\n",
    "The file name itself tells you a lot about the data. \n",
    "\n",
    "1. **macav2metdata**: the data are the MACA version two data which are downsampled to the extent of the continental United S tates\n",
    "2. **tasmax**: Max temperature is the parameter contained within the data\n",
    "3. **BNU-ESM**: This is the climate (CLM) model used to generate the data\n",
    "4. **historical**: these data are the modeled historical values for the years **1950 - 2005**\n",
    "5. **CONUS**: These data are for the **CON**tinental **U**nited **S**tates boundary\n",
    "6. **monthly**: These data are aggregated monthly (rather than daily)\n",
    "\n",
    "Below, you will learn how to open and work with MACA 2 data using open source Python tools. \n",
    "You will use the **xarray** package which requires the `netcdf4` package to work with netcdf data. \n",
    "The <a href=\"https://github.com/earthlab/earth-analytics-python-env\" target=\"_blank\">most current earth-analytics-python environment </a> contains all of the \n",
    "packages that you need to complete this tutorial.\n",
    "\n",
    "To begin, you open up the data using `xarray.open_dataset`."
   ]
  },
  {
   "cell_type": "code",
   "execution_count": 3,
   "metadata": {},
   "outputs": [
    {
     "data": {
      "text/html": [
       "<div><svg style=\"position: absolute; width: 0; height: 0; overflow: hidden\">\n",
       "<defs>\n",
       "<symbol id=\"icon-database\" viewBox=\"0 0 32 32\">\n",
       "<path d=\"M16 0c-8.837 0-16 2.239-16 5v4c0 2.761 7.163 5 16 5s16-2.239 16-5v-4c0-2.761-7.163-5-16-5z\"></path>\n",
       "<path d=\"M16 17c-8.837 0-16-2.239-16-5v6c0 2.761 7.163 5 16 5s16-2.239 16-5v-6c0 2.761-7.163 5-16 5z\"></path>\n",
       "<path d=\"M16 26c-8.837 0-16-2.239-16-5v6c0 2.761 7.163 5 16 5s16-2.239 16-5v-6c0 2.761-7.163 5-16 5z\"></path>\n",
       "</symbol>\n",
       "<symbol id=\"icon-file-text2\" viewBox=\"0 0 32 32\">\n",
       "<path d=\"M28.681 7.159c-0.694-0.947-1.662-2.053-2.724-3.116s-2.169-2.030-3.116-2.724c-1.612-1.182-2.393-1.319-2.841-1.319h-15.5c-1.378 0-2.5 1.121-2.5 2.5v27c0 1.378 1.122 2.5 2.5 2.5h23c1.378 0 2.5-1.122 2.5-2.5v-19.5c0-0.448-0.137-1.23-1.319-2.841zM24.543 5.457c0.959 0.959 1.712 1.825 2.268 2.543h-4.811v-4.811c0.718 0.556 1.584 1.309 2.543 2.268zM28 29.5c0 0.271-0.229 0.5-0.5 0.5h-23c-0.271 0-0.5-0.229-0.5-0.5v-27c0-0.271 0.229-0.5 0.5-0.5 0 0 15.499-0 15.5 0v7c0 0.552 0.448 1 1 1h7v19.5z\"></path>\n",
       "<path d=\"M23 26h-14c-0.552 0-1-0.448-1-1s0.448-1 1-1h14c0.552 0 1 0.448 1 1s-0.448 1-1 1z\"></path>\n",
       "<path d=\"M23 22h-14c-0.552 0-1-0.448-1-1s0.448-1 1-1h14c0.552 0 1 0.448 1 1s-0.448 1-1 1z\"></path>\n",
       "<path d=\"M23 18h-14c-0.552 0-1-0.448-1-1s0.448-1 1-1h14c0.552 0 1 0.448 1 1s-0.448 1-1 1z\"></path>\n",
       "</symbol>\n",
       "</defs>\n",
       "</svg>\n",
       "<style>/* CSS stylesheet for displaying xarray objects in jupyterlab.\n",
       " *\n",
       " */\n",
       "\n",
       ":root {\n",
       "  --xr-font-color0: var(--jp-content-font-color0, rgba(0, 0, 0, 1));\n",
       "  --xr-font-color2: var(--jp-content-font-color2, rgba(0, 0, 0, 0.54));\n",
       "  --xr-font-color3: var(--jp-content-font-color3, rgba(0, 0, 0, 0.38));\n",
       "  --xr-border-color: var(--jp-border-color2, #e0e0e0);\n",
       "  --xr-disabled-color: var(--jp-layout-color3, #bdbdbd);\n",
       "  --xr-background-color: var(--jp-layout-color0, white);\n",
       "  --xr-background-color-row-even: var(--jp-layout-color1, white);\n",
       "  --xr-background-color-row-odd: var(--jp-layout-color2, #eeeeee);\n",
       "}\n",
       "\n",
       "html[theme=dark],\n",
       "body.vscode-dark {\n",
       "  --xr-font-color0: rgba(255, 255, 255, 1);\n",
       "  --xr-font-color2: rgba(255, 255, 255, 0.54);\n",
       "  --xr-font-color3: rgba(255, 255, 255, 0.38);\n",
       "  --xr-border-color: #1F1F1F;\n",
       "  --xr-disabled-color: #515151;\n",
       "  --xr-background-color: #111111;\n",
       "  --xr-background-color-row-even: #111111;\n",
       "  --xr-background-color-row-odd: #313131;\n",
       "}\n",
       "\n",
       ".xr-wrap {\n",
       "  display: block;\n",
       "  min-width: 300px;\n",
       "  max-width: 700px;\n",
       "}\n",
       "\n",
       ".xr-text-repr-fallback {\n",
       "  /* fallback to plain text repr when CSS is not injected (untrusted notebook) */\n",
       "  display: none;\n",
       "}\n",
       "\n",
       ".xr-header {\n",
       "  padding-top: 6px;\n",
       "  padding-bottom: 6px;\n",
       "  margin-bottom: 4px;\n",
       "  border-bottom: solid 1px var(--xr-border-color);\n",
       "}\n",
       "\n",
       ".xr-header > div,\n",
       ".xr-header > ul {\n",
       "  display: inline;\n",
       "  margin-top: 0;\n",
       "  margin-bottom: 0;\n",
       "}\n",
       "\n",
       ".xr-obj-type,\n",
       ".xr-array-name {\n",
       "  margin-left: 2px;\n",
       "  margin-right: 10px;\n",
       "}\n",
       "\n",
       ".xr-obj-type {\n",
       "  color: var(--xr-font-color2);\n",
       "}\n",
       "\n",
       ".xr-sections {\n",
       "  padding-left: 0 !important;\n",
       "  display: grid;\n",
       "  grid-template-columns: 150px auto auto 1fr 20px 20px;\n",
       "}\n",
       "\n",
       ".xr-section-item {\n",
       "  display: contents;\n",
       "}\n",
       "\n",
       ".xr-section-item input {\n",
       "  display: none;\n",
       "}\n",
       "\n",
       ".xr-section-item input + label {\n",
       "  color: var(--xr-disabled-color);\n",
       "}\n",
       "\n",
       ".xr-section-item input:enabled + label {\n",
       "  cursor: pointer;\n",
       "  color: var(--xr-font-color2);\n",
       "}\n",
       "\n",
       ".xr-section-item input:enabled + label:hover {\n",
       "  color: var(--xr-font-color0);\n",
       "}\n",
       "\n",
       ".xr-section-summary {\n",
       "  grid-column: 1;\n",
       "  color: var(--xr-font-color2);\n",
       "  font-weight: 500;\n",
       "}\n",
       "\n",
       ".xr-section-summary > span {\n",
       "  display: inline-block;\n",
       "  padding-left: 0.5em;\n",
       "}\n",
       "\n",
       ".xr-section-summary-in:disabled + label {\n",
       "  color: var(--xr-font-color2);\n",
       "}\n",
       "\n",
       ".xr-section-summary-in + label:before {\n",
       "  display: inline-block;\n",
       "  content: '►';\n",
       "  font-size: 11px;\n",
       "  width: 15px;\n",
       "  text-align: center;\n",
       "}\n",
       "\n",
       ".xr-section-summary-in:disabled + label:before {\n",
       "  color: var(--xr-disabled-color);\n",
       "}\n",
       "\n",
       ".xr-section-summary-in:checked + label:before {\n",
       "  content: '▼';\n",
       "}\n",
       "\n",
       ".xr-section-summary-in:checked + label > span {\n",
       "  display: none;\n",
       "}\n",
       "\n",
       ".xr-section-summary,\n",
       ".xr-section-inline-details {\n",
       "  padding-top: 4px;\n",
       "  padding-bottom: 4px;\n",
       "}\n",
       "\n",
       ".xr-section-inline-details {\n",
       "  grid-column: 2 / -1;\n",
       "}\n",
       "\n",
       ".xr-section-details {\n",
       "  display: none;\n",
       "  grid-column: 1 / -1;\n",
       "  margin-bottom: 5px;\n",
       "}\n",
       "\n",
       ".xr-section-summary-in:checked ~ .xr-section-details {\n",
       "  display: contents;\n",
       "}\n",
       "\n",
       ".xr-array-wrap {\n",
       "  grid-column: 1 / -1;\n",
       "  display: grid;\n",
       "  grid-template-columns: 20px auto;\n",
       "}\n",
       "\n",
       ".xr-array-wrap > label {\n",
       "  grid-column: 1;\n",
       "  vertical-align: top;\n",
       "}\n",
       "\n",
       ".xr-preview {\n",
       "  color: var(--xr-font-color3);\n",
       "}\n",
       "\n",
       ".xr-array-preview,\n",
       ".xr-array-data {\n",
       "  padding: 0 5px !important;\n",
       "  grid-column: 2;\n",
       "}\n",
       "\n",
       ".xr-array-data,\n",
       ".xr-array-in:checked ~ .xr-array-preview {\n",
       "  display: none;\n",
       "}\n",
       "\n",
       ".xr-array-in:checked ~ .xr-array-data,\n",
       ".xr-array-preview {\n",
       "  display: inline-block;\n",
       "}\n",
       "\n",
       ".xr-dim-list {\n",
       "  display: inline-block !important;\n",
       "  list-style: none;\n",
       "  padding: 0 !important;\n",
       "  margin: 0;\n",
       "}\n",
       "\n",
       ".xr-dim-list li {\n",
       "  display: inline-block;\n",
       "  padding: 0;\n",
       "  margin: 0;\n",
       "}\n",
       "\n",
       ".xr-dim-list:before {\n",
       "  content: '(';\n",
       "}\n",
       "\n",
       ".xr-dim-list:after {\n",
       "  content: ')';\n",
       "}\n",
       "\n",
       ".xr-dim-list li:not(:last-child):after {\n",
       "  content: ',';\n",
       "  padding-right: 5px;\n",
       "}\n",
       "\n",
       ".xr-has-index {\n",
       "  font-weight: bold;\n",
       "}\n",
       "\n",
       ".xr-var-list,\n",
       ".xr-var-item {\n",
       "  display: contents;\n",
       "}\n",
       "\n",
       ".xr-var-item > div,\n",
       ".xr-var-item label,\n",
       ".xr-var-item > .xr-var-name span {\n",
       "  background-color: var(--xr-background-color-row-even);\n",
       "  margin-bottom: 0;\n",
       "}\n",
       "\n",
       ".xr-var-item > .xr-var-name:hover span {\n",
       "  padding-right: 5px;\n",
       "}\n",
       "\n",
       ".xr-var-list > li:nth-child(odd) > div,\n",
       ".xr-var-list > li:nth-child(odd) > label,\n",
       ".xr-var-list > li:nth-child(odd) > .xr-var-name span {\n",
       "  background-color: var(--xr-background-color-row-odd);\n",
       "}\n",
       "\n",
       ".xr-var-name {\n",
       "  grid-column: 1;\n",
       "}\n",
       "\n",
       ".xr-var-dims {\n",
       "  grid-column: 2;\n",
       "}\n",
       "\n",
       ".xr-var-dtype {\n",
       "  grid-column: 3;\n",
       "  text-align: right;\n",
       "  color: var(--xr-font-color2);\n",
       "}\n",
       "\n",
       ".xr-var-preview {\n",
       "  grid-column: 4;\n",
       "}\n",
       "\n",
       ".xr-var-name,\n",
       ".xr-var-dims,\n",
       ".xr-var-dtype,\n",
       ".xr-preview,\n",
       ".xr-attrs dt {\n",
       "  white-space: nowrap;\n",
       "  overflow: hidden;\n",
       "  text-overflow: ellipsis;\n",
       "  padding-right: 10px;\n",
       "}\n",
       "\n",
       ".xr-var-name:hover,\n",
       ".xr-var-dims:hover,\n",
       ".xr-var-dtype:hover,\n",
       ".xr-attrs dt:hover {\n",
       "  overflow: visible;\n",
       "  width: auto;\n",
       "  z-index: 1;\n",
       "}\n",
       "\n",
       ".xr-var-attrs,\n",
       ".xr-var-data {\n",
       "  display: none;\n",
       "  background-color: var(--xr-background-color) !important;\n",
       "  padding-bottom: 5px !important;\n",
       "}\n",
       "\n",
       ".xr-var-attrs-in:checked ~ .xr-var-attrs,\n",
       ".xr-var-data-in:checked ~ .xr-var-data {\n",
       "  display: block;\n",
       "}\n",
       "\n",
       ".xr-var-data > table {\n",
       "  float: right;\n",
       "}\n",
       "\n",
       ".xr-var-name span,\n",
       ".xr-var-data,\n",
       ".xr-attrs {\n",
       "  padding-left: 25px !important;\n",
       "}\n",
       "\n",
       ".xr-attrs,\n",
       ".xr-var-attrs,\n",
       ".xr-var-data {\n",
       "  grid-column: 1 / -1;\n",
       "}\n",
       "\n",
       "dl.xr-attrs {\n",
       "  padding: 0;\n",
       "  margin: 0;\n",
       "  display: grid;\n",
       "  grid-template-columns: 125px auto;\n",
       "}\n",
       "\n",
       ".xr-attrs dt, dd {\n",
       "  padding: 0;\n",
       "  margin: 0;\n",
       "  float: left;\n",
       "  padding-right: 10px;\n",
       "  width: auto;\n",
       "}\n",
       "\n",
       ".xr-attrs dt {\n",
       "  font-weight: normal;\n",
       "  grid-column: 1;\n",
       "}\n",
       "\n",
       ".xr-attrs dt:hover span {\n",
       "  display: inline-block;\n",
       "  background: var(--xr-background-color);\n",
       "  padding-right: 10px;\n",
       "}\n",
       "\n",
       ".xr-attrs dd {\n",
       "  grid-column: 2;\n",
       "  white-space: pre-wrap;\n",
       "  word-break: break-all;\n",
       "}\n",
       "\n",
       ".xr-icon-database,\n",
       ".xr-icon-file-text2 {\n",
       "  display: inline-block;\n",
       "  vertical-align: middle;\n",
       "  width: 1em;\n",
       "  height: 1.5em !important;\n",
       "  stroke-width: 0;\n",
       "  stroke: currentColor;\n",
       "  fill: currentColor;\n",
       "}\n",
       "</style><pre class='xr-text-repr-fallback'>&lt;xarray.Dataset&gt;\n",
       "Dimensions:          (crs: 1, lat: 585, lon: 1386, time: 672)\n",
       "Coordinates:\n",
       "  * lat              (lat) float64 25.06 25.1 25.15 25.19 ... 49.31 49.35 49.4\n",
       "  * crs              (crs) int32 1\n",
       "  * lon              (lon) float64 235.2 235.3 235.3 235.4 ... 292.9 292.9 292.9\n",
       "  * time             (time) object 1950-01-15 00:00:00 ... 2005-12-15 00:00:00\n",
       "Data variables:\n",
       "    air_temperature  (time, lat, lon) float32 ...\n",
       "Attributes:\n",
       "    description:                     Multivariate Adaptive Constructed Analog...\n",
       "    id:                              MACAv2-METDATA\n",
       "    naming_authority:                edu.uidaho.reacch\n",
       "    Metadata_Conventions:            Unidata Dataset Discovery v1.0\n",
       "    Metadata_Link:                   \n",
       "    cdm_data_type:                   FLOAT\n",
       "    title:                           Monthly aggregation of downscaled daily ...\n",
       "    summary:                         This archive contains monthly downscaled...\n",
       "    keywords:                        monthly, precipitation, maximum temperat...\n",
       "    keywords_vocabulary:             \n",
       "    standard_name_vocabulary:        CF-1.0\n",
       "    history:                         No revisions.\n",
       "    comment:                         \n",
       "    geospatial_bounds:               POLYGON((-124.7722 25.0631,-124.7722 49....\n",
       "    geospatial_lat_min:              25.0631\n",
       "    geospatial_lat_max:              49.3960\n",
       "    geospatial_lon_min:              -124.7722\n",
       "    geospatial_lon_max:              -67.0648\n",
       "    geospatial_lat_units:            decimal degrees north\n",
       "    geospatial_lon_units:            decimal degrees east\n",
       "    geospatial_lat_resolution:       0.0417\n",
       "    geospatial_lon_resolution:       0.0417\n",
       "    geospatial_vertical_min:         0.0\n",
       "    geospatial_vertical_max:         0.0\n",
       "    geospatial_vertical_resolution:  0.0\n",
       "    geospatial_vertical_positive:    up\n",
       "    time_coverage_start:             2000-01-01T00:0\n",
       "    time_coverage_end:               2004-12-31T00:00\n",
       "    time_coverage_duration:          P5Y\n",
       "    time_coverage_resolution:        P1M\n",
       "    date_created:                    2014-05-15\n",
       "    date_modified:                   2014-05-15\n",
       "    date_issued:                     2014-05-15\n",
       "    creator_name:                    John Abatzoglou\n",
       "    creator_url:                     http://maca.northwestknowledge.net\n",
       "    creator_email:                   jabatzoglou@uidaho.edu\n",
       "    institution:                     University of Idaho\n",
       "    processing_level:                GRID\n",
       "    project:                         \n",
       "    contributor_name:                Katherine C. Hegewisch\n",
       "    contributor_role:                Postdoctoral Fellow\n",
       "    publisher_name:                  REACCH\n",
       "    publisher_email:                 reacch@uidaho.edu\n",
       "    publisher_url:                   http://www.reacchpna.org/\n",
       "    license:                         Creative Commons CC0 1.0 Universal Dedic...\n",
       "    coordinate_system:               WGS84,EPSG:4326</pre><div class='xr-wrap' hidden><div class='xr-header'><div class='xr-obj-type'>xarray.Dataset</div></div><ul class='xr-sections'><li class='xr-section-item'><input id='section-ee477fe0-c995-4d89-a724-f4807c7f9224' class='xr-section-summary-in' type='checkbox' disabled ><label for='section-ee477fe0-c995-4d89-a724-f4807c7f9224' class='xr-section-summary'  title='Expand/collapse section'>Dimensions:</label><div class='xr-section-inline-details'><ul class='xr-dim-list'><li><span class='xr-has-index'>crs</span>: 1</li><li><span class='xr-has-index'>lat</span>: 585</li><li><span class='xr-has-index'>lon</span>: 1386</li><li><span class='xr-has-index'>time</span>: 672</li></ul></div><div class='xr-section-details'></div></li><li class='xr-section-item'><input id='section-52a839c9-428c-4288-a705-17b5961d5fe6' class='xr-section-summary-in' type='checkbox'  checked><label for='section-52a839c9-428c-4288-a705-17b5961d5fe6' class='xr-section-summary' >Coordinates: <span>(4)</span></label><div class='xr-section-inline-details'></div><div class='xr-section-details'><ul class='xr-var-list'><li class='xr-var-item'><div class='xr-var-name'><span class='xr-has-index'>lat</span></div><div class='xr-var-dims'>(lat)</div><div class='xr-var-dtype'>float64</div><div class='xr-var-preview xr-preview'>25.06 25.1 25.15 ... 49.35 49.4</div><input id='attrs-2b5fa394-b109-4a85-8481-68f6164e9aa2' class='xr-var-attrs-in' type='checkbox' ><label for='attrs-2b5fa394-b109-4a85-8481-68f6164e9aa2' title='Show/Hide attributes'><svg class='icon xr-icon-file-text2'><use xlink:href='#icon-file-text2'></use></svg></label><input id='data-eaa599bb-93b8-4d2d-966d-07bea3a13285' class='xr-var-data-in' type='checkbox'><label for='data-eaa599bb-93b8-4d2d-966d-07bea3a13285' title='Show/Hide data repr'><svg class='icon xr-icon-database'><use xlink:href='#icon-database'></use></svg></label><div class='xr-var-attrs'><dl class='xr-attrs'><dt><span>long_name :</span></dt><dd>latitude</dd><dt><span>standard_name :</span></dt><dd>latitude</dd><dt><span>units :</span></dt><dd>degrees_north</dd><dt><span>axis :</span></dt><dd>Y</dd><dt><span>description :</span></dt><dd>Latitude of the center of the grid cell</dd></dl></div><div class='xr-var-data'><pre>array([25.063078, 25.104744, 25.14641 , ..., 49.312691, 49.354359, 49.396023])</pre></div></li><li class='xr-var-item'><div class='xr-var-name'><span class='xr-has-index'>crs</span></div><div class='xr-var-dims'>(crs)</div><div class='xr-var-dtype'>int32</div><div class='xr-var-preview xr-preview'>1</div><input id='attrs-9dfd0bab-5af4-4f59-ae90-8d8b152b2510' class='xr-var-attrs-in' type='checkbox' ><label for='attrs-9dfd0bab-5af4-4f59-ae90-8d8b152b2510' title='Show/Hide attributes'><svg class='icon xr-icon-file-text2'><use xlink:href='#icon-file-text2'></use></svg></label><input id='data-6cd3470f-23aa-4de3-ae20-a7d0a63f2167' class='xr-var-data-in' type='checkbox'><label for='data-6cd3470f-23aa-4de3-ae20-a7d0a63f2167' title='Show/Hide data repr'><svg class='icon xr-icon-database'><use xlink:href='#icon-database'></use></svg></label><div class='xr-var-attrs'><dl class='xr-attrs'><dt><span>grid_mapping_name :</span></dt><dd>latitude_longitude</dd><dt><span>longitude_of_prime_meridian :</span></dt><dd>0.0</dd><dt><span>semi_major_axis :</span></dt><dd>6378137.0</dd><dt><span>inverse_flattening :</span></dt><dd>298.257223563</dd></dl></div><div class='xr-var-data'><pre>array([1], dtype=int32)</pre></div></li><li class='xr-var-item'><div class='xr-var-name'><span class='xr-has-index'>lon</span></div><div class='xr-var-dims'>(lon)</div><div class='xr-var-dtype'>float64</div><div class='xr-var-preview xr-preview'>235.2 235.3 235.3 ... 292.9 292.9</div><input id='attrs-5106e9de-702f-4093-bf7d-ef87d29c4245' class='xr-var-attrs-in' type='checkbox' ><label for='attrs-5106e9de-702f-4093-bf7d-ef87d29c4245' title='Show/Hide attributes'><svg class='icon xr-icon-file-text2'><use xlink:href='#icon-file-text2'></use></svg></label><input id='data-0006f6a4-bb9b-4d9b-87fc-da63f1c08335' class='xr-var-data-in' type='checkbox'><label for='data-0006f6a4-bb9b-4d9b-87fc-da63f1c08335' title='Show/Hide data repr'><svg class='icon xr-icon-database'><use xlink:href='#icon-database'></use></svg></label><div class='xr-var-attrs'><dl class='xr-attrs'><dt><span>units :</span></dt><dd>degrees_east</dd><dt><span>description :</span></dt><dd>Longitude of the center of the grid cell</dd><dt><span>long_name :</span></dt><dd>longitude</dd><dt><span>standard_name :</span></dt><dd>longitude</dd><dt><span>axis :</span></dt><dd>X</dd></dl></div><div class='xr-var-data'><pre>array([235.227844, 235.269501, 235.311157, ..., 292.851929, 292.893585,\n",
       "       292.935242])</pre></div></li><li class='xr-var-item'><div class='xr-var-name'><span class='xr-has-index'>time</span></div><div class='xr-var-dims'>(time)</div><div class='xr-var-dtype'>object</div><div class='xr-var-preview xr-preview'>1950-01-15 00:00:00 ... 2005-12-...</div><input id='attrs-e71fe20b-561b-46fe-9855-62395884e65e' class='xr-var-attrs-in' type='checkbox' ><label for='attrs-e71fe20b-561b-46fe-9855-62395884e65e' title='Show/Hide attributes'><svg class='icon xr-icon-file-text2'><use xlink:href='#icon-file-text2'></use></svg></label><input id='data-758aacac-7d03-407e-83d4-6a2f9105dcc6' class='xr-var-data-in' type='checkbox'><label for='data-758aacac-7d03-407e-83d4-6a2f9105dcc6' title='Show/Hide data repr'><svg class='icon xr-icon-database'><use xlink:href='#icon-database'></use></svg></label><div class='xr-var-attrs'><dl class='xr-attrs'><dt><span>description :</span></dt><dd>days since 1900-01-01</dd></dl></div><div class='xr-var-data'><pre>array([cftime.DatetimeNoLeap(1950, 1, 15, 0, 0, 0, 0),\n",
       "       cftime.DatetimeNoLeap(1950, 2, 15, 0, 0, 0, 0),\n",
       "       cftime.DatetimeNoLeap(1950, 3, 15, 0, 0, 0, 0), ...,\n",
       "       cftime.DatetimeNoLeap(2005, 10, 15, 0, 0, 0, 0),\n",
       "       cftime.DatetimeNoLeap(2005, 11, 15, 0, 0, 0, 0),\n",
       "       cftime.DatetimeNoLeap(2005, 12, 15, 0, 0, 0, 0)], dtype=object)</pre></div></li></ul></div></li><li class='xr-section-item'><input id='section-7ed8751a-0730-42e5-acb3-76b4740432b6' class='xr-section-summary-in' type='checkbox'  checked><label for='section-7ed8751a-0730-42e5-acb3-76b4740432b6' class='xr-section-summary' >Data variables: <span>(1)</span></label><div class='xr-section-inline-details'></div><div class='xr-section-details'><ul class='xr-var-list'><li class='xr-var-item'><div class='xr-var-name'><span>air_temperature</span></div><div class='xr-var-dims'>(time, lat, lon)</div><div class='xr-var-dtype'>float32</div><div class='xr-var-preview xr-preview'>...</div><input id='attrs-935f85ae-8175-4e8f-96ac-5a17e909066e' class='xr-var-attrs-in' type='checkbox' ><label for='attrs-935f85ae-8175-4e8f-96ac-5a17e909066e' title='Show/Hide attributes'><svg class='icon xr-icon-file-text2'><use xlink:href='#icon-file-text2'></use></svg></label><input id='data-d2e80e4d-566c-4d9f-9b45-d7bed07733f1' class='xr-var-data-in' type='checkbox'><label for='data-d2e80e4d-566c-4d9f-9b45-d7bed07733f1' title='Show/Hide data repr'><svg class='icon xr-icon-database'><use xlink:href='#icon-database'></use></svg></label><div class='xr-var-attrs'><dl class='xr-attrs'><dt><span>long_name :</span></dt><dd>Monthly Average of Daily Maximum Near-Surface Air Temperature</dd><dt><span>units :</span></dt><dd>K</dd><dt><span>grid_mapping :</span></dt><dd>crs</dd><dt><span>standard_name :</span></dt><dd>air_temperature</dd><dt><span>height :</span></dt><dd>2 m</dd><dt><span>cell_methods :</span></dt><dd>time: maximum(interval: 24 hours);mean over days</dd><dt><span>_ChunkSizes :</span></dt><dd>[ 10  44 107]</dd></dl></div><div class='xr-var-data'><pre>[544864320 values with dtype=float32]</pre></div></li></ul></div></li><li class='xr-section-item'><input id='section-d0fb85b7-1738-4cf7-97a3-498314950f80' class='xr-section-summary-in' type='checkbox'  ><label for='section-d0fb85b7-1738-4cf7-97a3-498314950f80' class='xr-section-summary' >Attributes: <span>(46)</span></label><div class='xr-section-inline-details'></div><div class='xr-section-details'><dl class='xr-attrs'><dt><span>description :</span></dt><dd>Multivariate Adaptive Constructed Analogs (MACA) method, version 2.3,Dec 2013.</dd><dt><span>id :</span></dt><dd>MACAv2-METDATA</dd><dt><span>naming_authority :</span></dt><dd>edu.uidaho.reacch</dd><dt><span>Metadata_Conventions :</span></dt><dd>Unidata Dataset Discovery v1.0</dd><dt><span>Metadata_Link :</span></dt><dd></dd><dt><span>cdm_data_type :</span></dt><dd>FLOAT</dd><dt><span>title :</span></dt><dd>Monthly aggregation of downscaled daily meteorological data of Monthly Average of Daily Maximum Near-Surface Air Temperature from College of Global Change and Earth System Science, Beijing Normal University (BNU-ESM) using the run r1i1p1 of the historical scenario.</dd><dt><span>summary :</span></dt><dd>This archive contains monthly downscaled meteorological and hydrological projections for the Conterminous United States at 1/24-deg resolution. These monthly values are obtained by aggregating the daily values obtained from the downscaling using the Multivariate Adaptive Constructed Analogs (MACA, Abatzoglou, 2012) statistical downscaling method with the METDATA (Abatzoglou,2013) training dataset. The downscaled meteorological variables are maximum/minimum temperature(tasmax/tasmin), maximum/minimum relative humidity (rhsmax/rhsmin),precipitation amount(pr), downward shortwave solar radiation(rsds), eastward wind(uas), northward wind(vas), and specific humidity(huss). The downscaling is based on the 365-day model outputs from different global climate models (GCMs) from Phase 5 of the Coupled Model Inter-comparison Project (CMIP3) utlizing the historical (1950-2005) and future RCP4.5/8.5(2006-2099) scenarios. </dd><dt><span>keywords :</span></dt><dd>monthly, precipitation, maximum temperature, minimum temperature, downward shortwave solar radiation, specific humidity, wind velocity, CMIP5, Gridded Meteorological Data</dd><dt><span>keywords_vocabulary :</span></dt><dd></dd><dt><span>standard_name_vocabulary :</span></dt><dd>CF-1.0</dd><dt><span>history :</span></dt><dd>No revisions.</dd><dt><span>comment :</span></dt><dd></dd><dt><span>geospatial_bounds :</span></dt><dd>POLYGON((-124.7722 25.0631,-124.7722 49.3960, -67.0648 49.3960,-67.0648, 25.0631, -124.7722,25.0631))</dd><dt><span>geospatial_lat_min :</span></dt><dd>25.0631</dd><dt><span>geospatial_lat_max :</span></dt><dd>49.3960</dd><dt><span>geospatial_lon_min :</span></dt><dd>-124.7722</dd><dt><span>geospatial_lon_max :</span></dt><dd>-67.0648</dd><dt><span>geospatial_lat_units :</span></dt><dd>decimal degrees north</dd><dt><span>geospatial_lon_units :</span></dt><dd>decimal degrees east</dd><dt><span>geospatial_lat_resolution :</span></dt><dd>0.0417</dd><dt><span>geospatial_lon_resolution :</span></dt><dd>0.0417</dd><dt><span>geospatial_vertical_min :</span></dt><dd>0.0</dd><dt><span>geospatial_vertical_max :</span></dt><dd>0.0</dd><dt><span>geospatial_vertical_resolution :</span></dt><dd>0.0</dd><dt><span>geospatial_vertical_positive :</span></dt><dd>up</dd><dt><span>time_coverage_start :</span></dt><dd>2000-01-01T00:0</dd><dt><span>time_coverage_end :</span></dt><dd>2004-12-31T00:00</dd><dt><span>time_coverage_duration :</span></dt><dd>P5Y</dd><dt><span>time_coverage_resolution :</span></dt><dd>P1M</dd><dt><span>date_created :</span></dt><dd>2014-05-15</dd><dt><span>date_modified :</span></dt><dd>2014-05-15</dd><dt><span>date_issued :</span></dt><dd>2014-05-15</dd><dt><span>creator_name :</span></dt><dd>John Abatzoglou</dd><dt><span>creator_url :</span></dt><dd>http://maca.northwestknowledge.net</dd><dt><span>creator_email :</span></dt><dd>jabatzoglou@uidaho.edu</dd><dt><span>institution :</span></dt><dd>University of Idaho</dd><dt><span>processing_level :</span></dt><dd>GRID</dd><dt><span>project :</span></dt><dd></dd><dt><span>contributor_name :</span></dt><dd>Katherine C. Hegewisch</dd><dt><span>contributor_role :</span></dt><dd>Postdoctoral Fellow</dd><dt><span>publisher_name :</span></dt><dd>REACCH</dd><dt><span>publisher_email :</span></dt><dd>reacch@uidaho.edu</dd><dt><span>publisher_url :</span></dt><dd>http://www.reacchpna.org/</dd><dt><span>license :</span></dt><dd>Creative Commons CC0 1.0 Universal Dedication(http://creativecommons.org/publicdomain/zero/1.0/legalcode)</dd><dt><span>coordinate_system :</span></dt><dd>WGS84,EPSG:4326</dd></dl></div></li></ul></div></div>"
      ],
      "text/plain": [
       "<xarray.Dataset>\n",
       "Dimensions:          (crs: 1, lat: 585, lon: 1386, time: 672)\n",
       "Coordinates:\n",
       "  * lat              (lat) float64 25.06 25.1 25.15 25.19 ... 49.31 49.35 49.4\n",
       "  * crs              (crs) int32 1\n",
       "  * lon              (lon) float64 235.2 235.3 235.3 235.4 ... 292.9 292.9 292.9\n",
       "  * time             (time) object 1950-01-15 00:00:00 ... 2005-12-15 00:00:00\n",
       "Data variables:\n",
       "    air_temperature  (time, lat, lon) float32 ...\n",
       "Attributes:\n",
       "    description:                     Multivariate Adaptive Constructed Analog...\n",
       "    id:                              MACAv2-METDATA\n",
       "    naming_authority:                edu.uidaho.reacch\n",
       "    Metadata_Conventions:            Unidata Dataset Discovery v1.0\n",
       "    Metadata_Link:                   \n",
       "    cdm_data_type:                   FLOAT\n",
       "    title:                           Monthly aggregation of downscaled daily ...\n",
       "    summary:                         This archive contains monthly downscaled...\n",
       "    keywords:                        monthly, precipitation, maximum temperat...\n",
       "    keywords_vocabulary:             \n",
       "    standard_name_vocabulary:        CF-1.0\n",
       "    history:                         No revisions.\n",
       "    comment:                         \n",
       "    geospatial_bounds:               POLYGON((-124.7722 25.0631,-124.7722 49....\n",
       "    geospatial_lat_min:              25.0631\n",
       "    geospatial_lat_max:              49.3960\n",
       "    geospatial_lon_min:              -124.7722\n",
       "    geospatial_lon_max:              -67.0648\n",
       "    geospatial_lat_units:            decimal degrees north\n",
       "    geospatial_lon_units:            decimal degrees east\n",
       "    geospatial_lat_resolution:       0.0417\n",
       "    geospatial_lon_resolution:       0.0417\n",
       "    geospatial_vertical_min:         0.0\n",
       "    geospatial_vertical_max:         0.0\n",
       "    geospatial_vertical_resolution:  0.0\n",
       "    geospatial_vertical_positive:    up\n",
       "    time_coverage_start:             2000-01-01T00:0\n",
       "    time_coverage_end:               2004-12-31T00:00\n",
       "    time_coverage_duration:          P5Y\n",
       "    time_coverage_resolution:        P1M\n",
       "    date_created:                    2014-05-15\n",
       "    date_modified:                   2014-05-15\n",
       "    date_issued:                     2014-05-15\n",
       "    creator_name:                    John Abatzoglou\n",
       "    creator_url:                     http://maca.northwestknowledge.net\n",
       "    creator_email:                   jabatzoglou@uidaho.edu\n",
       "    institution:                     University of Idaho\n",
       "    processing_level:                GRID\n",
       "    project:                         \n",
       "    contributor_name:                Katherine C. Hegewisch\n",
       "    contributor_role:                Postdoctoral Fellow\n",
       "    publisher_name:                  REACCH\n",
       "    publisher_email:                 reacch@uidaho.edu\n",
       "    publisher_url:                   http://www.reacchpna.org/\n",
       "    license:                         Creative Commons CC0 1.0 Universal Dedic...\n",
       "    coordinate_system:               WGS84,EPSG:4326"
      ]
     },
     "execution_count": 3,
     "metadata": {},
     "output_type": "execute_result"
    }
   ],
   "source": [
    "# The (online) url for the MACAv2 data\n",
    "data_path = \"http://thredds.northwestknowledge.net:8080/thredds/dodsC/agg_macav2metdata_tasmax_BNU-ESM_r1i1p1_historical_1950_2005_CONUS_monthly.nc\"\n",
    "\n",
    "# Open the data using a context manager\n",
    "with xr.open_dataset(data_path) as file_nc:\n",
    "    max_temp_xr = file_nc\n",
    "\n",
    "# View xarray object\n",
    "max_temp_xr"
   ]
  },
  {
   "cell_type": "markdown",
   "metadata": {},
   "source": [
    "By default `xarray` does not handle spatial operations. However, if you \n",
    "load `rioxarray` it adds additional spatial functionality (supported by \n",
    "`rasterio` that supports handling:\n",
    "\n",
    "* coordinate reference systems\n",
    "* reprojection\n",
    "* clipping \n",
    "\n",
    "and more. Below you grab the `coordinate reference system` of the \n",
    "climate data using the `.rio.crs` method that is available\n",
    "because you have rioxarray loaded in this notebook."
   ]
  },
  {
   "cell_type": "code",
   "execution_count": null,
   "metadata": {},
   "outputs": [],
   "source": [
    "# For later - grab the crs of the data using rioxarray\n",
    "climate_crs = max_temp_xr.rio.crs\n",
    "climate_crs"
   ]
  },
  {
   "cell_type": "markdown",
   "metadata": {},
   "source": [
    "### Work With the NetCDF Data Structure - A Hierarchical Data Format\n",
    "\n",
    "The object above is hierarchical and contains metadata making it self-describing.\n",
    "There are three dimensions to consider when working with this data which represent the \n",
    "x,y and z dimensions of the data:\n",
    "\n",
    "1. latitude\n",
    "2. longitude\n",
    "3. time \n",
    "\n",
    "The latitude and longitude dimension values reprensent an arrya containing the point location\n",
    "value of each pixel in decimal degrees. These are location of each pixel in your data. The \n",
    "time array similarly represents the time location for each array in the data cube. \n",
    "This particular dataset contains historical modeleled monthly max temperature values for the \n",
    "Continental United States. "
   ]
  },
  {
   "cell_type": "code",
   "execution_count": null,
   "metadata": {},
   "outputs": [],
   "source": [
    "# View first 5 latitude values\n",
    "max_temp_xr[\"air_temperature\"][\"lat\"].values[:5]"
   ]
  },
  {
   "cell_type": "code",
   "execution_count": null,
   "metadata": {},
   "outputs": [],
   "source": [
    "# View first 5 longitude values\n",
    "max_temp_xr[\"air_temperature\"][\"lon\"].values[:5]"
   ]
  },
  {
   "cell_type": "code",
   "execution_count": null,
   "metadata": {},
   "outputs": [],
   "source": [
    "# View first 5 and last. 5 time values - notice the span of\n",
    "# dates range from 1950 to 2005\n",
    "max_temp_xr[\"air_temperature\"][\"time\"].values[:\n",
    "                                              5], max_temp_xr[\"air_temperature\"][\"time\"].values[-5:]"
   ]
  },
  {
   "cell_type": "code",
   "execution_count": null,
   "metadata": {},
   "outputs": [],
   "source": [
    "max_temp_xr[\"air_temperature\"][\"time\"].values.shape"
   ]
  },
  {
   "cell_type": "markdown",
   "metadata": {},
   "source": [
    "Time is the z dimension. In this dataset you have \n",
    "672 months worth of data.\n",
    "\n",
    "These data are spatial and thus have a coordinate reference system\n",
    "associated with them. You can access this information using `.crs` \n",
    "\n",
    "HINT `max_temp_xr[\"crs\"]` should also work!"
   ]
  },
  {
   "cell_type": "code",
   "execution_count": null,
   "metadata": {},
   "outputs": [],
   "source": [
    "# The data are lat/long (not projected)\n",
    "max_temp_xr.crs"
   ]
  },
  {
   "cell_type": "markdown",
   "metadata": {},
   "source": [
    "## Hierarchical Formats Are Self Describing\n",
    "\n",
    "Hierarchical data formats are self-describing. This means that the \n",
    "metadata for the data are contained within the file itself. `xarray` \n",
    "stores metadata in the `.attrs` part of the file structure using a \n",
    "Python dictionary structure. You can view the metadata using `.attrs`."
   ]
  },
  {
   "cell_type": "code",
   "execution_count": null,
   "metadata": {},
   "outputs": [],
   "source": [
    "# View metadata\n",
    "metadata = max_temp_xr.attrs\n",
    "metadata"
   ]
  },
  {
   "cell_type": "code",
   "execution_count": null,
   "metadata": {},
   "outputs": [],
   "source": [
    "# Above you grabbed the metadata (which is a dictionary)\n",
    "# Here you can print any part of the dictionary that you wish to\n",
    "metadata[\"title\"]"
   ]
  },
  {
   "cell_type": "markdown",
   "metadata": {},
   "source": [
    "## Subsetting or \"Slicing\" Your Data\n",
    " \n",
    "You can quickly and efficiently slice and subset your data using \n",
    "`xarray`. Below, you will learn how to slice the data using the `.sel()` method.\n",
    "\n",
    "This will return exactly two data points at the location - the temperature \n",
    "value for each day in your temporal slice."
   ]
  },
  {
   "cell_type": "code",
   "execution_count": null,
   "metadata": {},
   "outputs": [],
   "source": [
    "# Select a lat / lon location that you wish to use to extract the data\n",
    "latitude = 45.02109146118164\n",
    "longitude = 243.01937866210938"
   ]
  },
  {
   "cell_type": "markdown",
   "metadata": {},
   "source": [
    "Below, you can see the x, y location that for the latitude/longitude\n",
    "location that you will use to slice the data above plotted on a map. \n",
    "The code below is an example of creating a spatial plot using\n",
    "the `cartopy` package that shows the locatio nthat you selected. **This step is optional.**"
   ]
  },
  {
   "cell_type": "code",
   "execution_count": null,
   "metadata": {
    "capotion": "Plot showing the selected latitude and longitude location on a basemap created using the Python Cartopy package."
   },
   "outputs": [],
   "source": [
    "central_lat = 37.5\n",
    "central_lon = -96\n",
    "extent = [-120, -70, 24, 50.5]\n",
    "central_lon = np.mean(extent[:2])\n",
    "central_lat = np.mean(extent[2:])\n",
    "\n",
    "f, ax = plt.subplots(figsize=(12, 6),\n",
    "                     subplot_kw={'projection': ccrs.AlbersEqualArea(central_lon, central_lat)})\n",
    "ax.coastlines()\n",
    "ax.plot(longitude, latitude,\n",
    "        markersize=12,\n",
    "        marker='*',\n",
    "        color='purple')\n",
    "ax.set_extent(extent)\n",
    "ax.set(title=\"Location of the lat / lon Being Used To to Slice Your netcdf Climate Data File\")\n",
    "\n",
    "# Adds a bunch of elements to the map\n",
    "ax.add_feature(cfeature.LAND, edgecolor='black')\n",
    "\n",
    "ax.gridlines()\n",
    "plt.show()"
   ]
  },
  {
   "cell_type": "markdown",
   "metadata": {},
   "source": [
    "Now it is time to subset the data for the point location that \n",
    "you are interested in (the lat / lon value that you plotted above). \n",
    "You can slice the data for one single latitude, longitude location using\n",
    "the `.sel()` method.\n",
    "\n",
    "When you slice the data using one single point, your output for every \n",
    "(monthly in this case) time step in the data will be a single pixel \n",
    "value representing max temperature. "
   ]
  },
  {
   "cell_type": "code",
   "execution_count": null,
   "metadata": {},
   "outputs": [],
   "source": [
    "# Slice the data spatially using a single lat/lon point\n",
    "one_point = max_temp_xr[\"air_temperature\"].sel(lat=latitude,\n",
    "                                               lon=longitude)\n",
    "one_point"
   ]
  },
  {
   "cell_type": "markdown",
   "metadata": {},
   "source": [
    "When you slice the data by a single point, notice that output data\n",
    "only has a single array of values. In this case these values represent\n",
    "air temperature (in K) over time. "
   ]
  },
  {
   "cell_type": "code",
   "execution_count": null,
   "metadata": {},
   "outputs": [],
   "source": [
    "# Notice the shape of the output array\n",
    "one_point.shape"
   ]
  },
  {
   "cell_type": "markdown",
   "metadata": {},
   "source": [
    "The data stored in the xarray object is a numpy array. You can process\n",
    "the data in the same way you would process any other numpy array.  "
   ]
  },
  {
   "cell_type": "code",
   "execution_count": null,
   "metadata": {},
   "outputs": [],
   "source": [
    "# View the first 5 values for that single point\n",
    "one_point.values[:5]"
   ]
  },
  {
   "cell_type": "markdown",
   "metadata": {},
   "source": [
    "### Plot A Time Series For a Single Location \n",
    "\n",
    "Above you used a single point location to slice your data. Because\n",
    "the data are for only one location, but over time, you can quickly \n",
    "create a scatterplot of the data using `objectname.plot()`.\n"
   ]
  },
  {
   "cell_type": "code",
   "execution_count": null,
   "metadata": {
    "caption": "Standard plot output from xarray .plot() with no plot elements customized. You can make this plot look much nicer by customizing the line and point markers and colors."
   },
   "outputs": [],
   "source": [
    "# Use xarray to create a quick time series plot\n",
    "one_point.plot.line()\n",
    "plt.show()"
   ]
  },
  {
   "cell_type": "markdown",
   "metadata": {},
   "source": [
    "You can make the plot a bit prettier if you'd like using the \n",
    "standard Python matplotlib plot parameters. Below you change the marker color \n",
    "to purple and the lines to grey. `figsize` is used to adjust the \n",
    "size of the plot. "
   ]
  },
  {
   "cell_type": "code",
   "execution_count": null,
   "metadata": {
    "caption": "Plot showing historic max temperature climate data plotted using xarray .plot()."
   },
   "outputs": [],
   "source": [
    "# You can clean up your plot as you wish using standard matplotlib approaches\n",
    "f, ax = plt.subplots(figsize=(12, 6))\n",
    "one_point.plot.line(hue='lat',\n",
    "                    marker=\"o\",\n",
    "                    ax=ax,\n",
    "                    color=\"grey\",\n",
    "                    markerfacecolor=\"purple\",\n",
    "                    markeredgecolor=\"purple\")\n",
    "ax.set(title=\"Time Series For a Single Lat / Lon Location\")\n",
    "\n",
    "# Uncomment the line below if you wish to export the figure as a .png file\n",
    "# plt.savefig(\"single_point_timeseries.png\")\n",
    "plt.show()"
   ]
  },
  {
   "cell_type": "markdown",
   "metadata": {},
   "source": [
    "### Convert Climate Time Series Data to a Pandas DataFrame & Export to a .csv File\n",
    "You can convert your data to a `DataFrame` and export to \n",
    "a `.csv` file using `to_dataframe()` and `to_csv()`. "
   ]
  },
  {
   "cell_type": "code",
   "execution_count": null,
   "metadata": {},
   "outputs": [],
   "source": [
    "# Convert to dataframe -- then this can easily be exported to a csv\n",
    "one_point_df = one_point.to_dataframe()\n",
    "# View just the first 5 rows of the data\n",
    "one_point_df.head()"
   ]
  },
  {
   "cell_type": "markdown",
   "metadata": {},
   "source": [
    "Once you have a dataframe object, you can export it\n",
    "directly to a `.csv` file format."
   ]
  },
  {
   "cell_type": "code",
   "execution_count": null,
   "metadata": {},
   "outputs": [],
   "source": [
    "# Export data to .csv file\n",
    "one_point_df.to_csv(\"one-location.csv\")"
   ]
  },
  {
   "cell_type": "markdown",
   "metadata": {},
   "source": [
    "## Slice Climate MACAv2 Data By Time and Location\n",
    "\n",
    "Above you sliced the data by spatial location, selecting only one point\n",
    "location at a specific latitude and longitude. You can also slice the data by time. \n",
    "Below, you slice the data at the selected lat / long location and for a 5-year time period\n",
    "in the year 2000.\n",
    "\n",
    "Notice that the output shape is 60. 60 represents 12 months a year over 5 years\n",
    "for the selected lat / lon location. Again because you are slicing out data \n",
    "for a single point location, you have a total of 60 data points in the output\n",
    "numpy array."
   ]
  },
  {
   "cell_type": "code",
   "execution_count": null,
   "metadata": {},
   "outputs": [],
   "source": [
    "start_date = \"2000-01-01\"\n",
    "end_date = \"2005-01-01\"\n",
    "temp_2000_2005 = max_temp_xr[\"air_temperature\"].sel(time=slice(start_date, end_date),\n",
    "                                                    lat=45.02109146118164,\n",
    "                                                    lon=243.01937866210938)\n",
    "temp_2000_2005"
   ]
  },
  {
   "cell_type": "code",
   "execution_count": null,
   "metadata": {},
   "outputs": [],
   "source": [
    "temp_2000_2005.shape"
   ]
  },
  {
   "cell_type": "code",
   "execution_count": null,
   "metadata": {},
   "outputs": [],
   "source": [
    "# View the 60 data points (raster cell values) associated with the spatial and temporal subset\n",
    "temp_2000_2005.values"
   ]
  },
  {
   "cell_type": "markdown",
   "metadata": {},
   "source": [
    "Notice that in this instance you have much less data for that specific point\n",
    "(5 years worth of data to be exact)."
   ]
  },
  {
   "cell_type": "code",
   "execution_count": null,
   "metadata": {
    "caption": "Plot showing 5 years of monthly max temperature data. Here the data are cleaned up a bit with marker colors and lines adjusted."
   },
   "outputs": [],
   "source": [
    "# Plot the data just like you did above\n",
    "f, ax = plt.subplots(figsize=(12, 6))\n",
    "temp_2000_2005.plot.line(hue='lat',\n",
    "                         marker=\"o\",\n",
    "                         ax=ax,\n",
    "                         color=\"grey\",\n",
    "                         markerfacecolor=\"purple\",\n",
    "                         markeredgecolor=\"purple\")\n",
    "ax.set(title=\"A 5 Year Time Series of Temperature Data For A Single Location\")\n",
    "plt.show()"
   ]
  },
  {
   "cell_type": "markdown",
   "metadata": {},
   "source": [
    "## Convert Subsetted to a DataFrame & Export to a .csv File\n",
    "\n",
    "Similar to what you did above, you can also convert your data to a DataFrame. Once your data are in a \n",
    "DataFrame format, you can quickly export a `.csv` file."
   ]
  },
  {
   "cell_type": "code",
   "execution_count": null,
   "metadata": {},
   "outputs": [],
   "source": [
    "# Convert to dataframe -- then this can be exported to a csv if you want that\n",
    "temp_2000_2005_df = temp_2000_2005.to_dataframe()\n",
    "# View just the first 5 rows of the data\n",
    "temp_2000_2005_df.head()"
   ]
  },
  {
   "cell_type": "code",
   "execution_count": null,
   "metadata": {},
   "outputs": [],
   "source": [
    "# Create filename from subset info\n",
    "file_name = \"monthly-temp-\" + start_date + \"-\" + end_date + \".csv\"\n",
    "file_name"
   ]
  },
  {
   "cell_type": "code",
   "execution_count": null,
   "metadata": {},
   "outputs": [],
   "source": [
    "# Export to a csv file to share with your friends!\n",
    "temp_2000_2005_df.to_csv(file_name)"
   ]
  },
  {
   "cell_type": "markdown",
   "metadata": {},
   "source": [
    "## Slice The Data Across a Spatial Extent For A Specific Time Period\n",
    "\n",
    "In the above example you sliced out a subset of the data for a specific\n",
    "point location over time. Below you select \n",
    "data for the entire CONUS (Continental United States) study area and analyze it \n",
    "as a spatial raster object.\n",
    "\n",
    "Once again you use `.sel()` combined with `slice()` subset the data. \n",
    "\n",
    "Notice below that if you don't specify the lat and lon extent, \n",
    "it will by default return all of the pixels available in the data for the \n",
    "specified time period.\n",
    "\n",
    "Notice that you are plotting the entire spatial extent of the data which is \n",
    "in this case called CONUS (**CON**tinental **U**nited **S**tates)"
   ]
  },
  {
   "cell_type": "code",
   "execution_count": null,
   "metadata": {},
   "outputs": [],
   "source": [
    "start_date = \"1950-01-15\"\n",
    "end_date = \"1950-02-15\"\n",
    "\n",
    "two_months_conus = max_temp_xr[\"air_temperature\"].sel(\n",
    "    time=slice(start_date, end_date))\n",
    "# Notice that time has a value of **2** below representing two time steps or months worth of data\n",
    "two_months_conus"
   ]
  },
  {
   "cell_type": "code",
   "execution_count": null,
   "metadata": {},
   "outputs": [],
   "source": [
    "two_months_conus.shape"
   ]
  },
  {
   "cell_type": "markdown",
   "metadata": {},
   "source": [
    "The default return when you plot an xarray object with multipple years worth of \n",
    "data across a spatial extent is a histogram."
   ]
  },
  {
   "cell_type": "code",
   "execution_count": null,
   "metadata": {},
   "outputs": [],
   "source": [
    "two_months_conus.shape"
   ]
  },
  {
   "cell_type": "markdown",
   "metadata": {},
   "source": [
    "When you call `.plot()` on the data, the default plot is a \n",
    "histogram representing the range of raster pixel values in your data \n",
    "for all time periods (2 months in this case). "
   ]
  },
  {
   "cell_type": "code",
   "execution_count": null,
   "metadata": {
    "caption": "The default output of .plot() when you have more than a single point location selected will be a histogram. Here the histogram represents the spread of raster data values in the 2 months of modeled historical data."
   },
   "outputs": [],
   "source": [
    "# Directly plot just a single day using time in \"years\"\n",
    "two_months_conus.plot()\n",
    "plt.show()"
   ]
  },
  {
   "cell_type": "markdown",
   "metadata": {},
   "source": [
    "## Spatial Raster Plots of MACA v2 Climate Data\n",
    "If you want to plot the data spatially as a raster, you can use \n",
    "`.plot()` but specify the lon and lat values as the x and y dimensions \n",
    "to plot. You can add the following parameters to your `.plot()` call to \n",
    "make sure each time step in your data plots spatially:\n",
    "\n",
    "`col_wrap=2`: adjust how how many columns the each subplot is spread across\n",
    "`col=`: what dimension is being plotted in each subplot.\n",
    "\n",
    "In this case, you want a single raster for each month (time step) in the \n",
    "data so you specify `col='time'`. `col_wrap=1` forces the plots to \n",
    "stack on top of each other in your `matplotlib` figure. "
   ]
  },
  {
   "cell_type": "code",
   "execution_count": null,
   "metadata": {
    "caption": "Plot showing two months of the historic max temperature climate data plotted using xarray .plot(). If you set col_wrap to 1, then you end up with one column and two rows of subplots."
   },
   "outputs": [],
   "source": [
    "# Quickly plot the data using xarray.plot()\n",
    "two_months_conus.plot(x=\"lon\",\n",
    "                      y=\"lat\",\n",
    "                      col=\"time\",\n",
    "                      col_wrap=1)\n",
    "plt.suptitle(\"Two Time Steps of Monthly Average Temp\", y=1.03)\n",
    "plt.show()"
   ]
  },
  {
   "cell_type": "markdown",
   "metadata": {},
   "source": [
    "If you set `col_wrap` to `2` you end up with two columns and\n",
    "one subplot in each column. "
   ]
  },
  {
   "cell_type": "code",
   "execution_count": null,
   "metadata": {
    "caption": "Plot showing two months of the historic max temperature climate data plotted using xarray .plot(). If you set col_wrap to 2, then you end up with two columns."
   },
   "outputs": [],
   "source": [
    "# Plot the data using 2 columns\n",
    "two_months_conus.plot(x=\"lon\",\n",
    "                      y=\"lat\",\n",
    "                      col=\"time\",\n",
    "                      col_wrap=2)\n",
    "plt.show()"
   ]
  },
  {
   "cell_type": "code",
   "execution_count": null,
   "metadata": {
    "tags": [
     "hide"
    ]
   },
   "outputs": [],
   "source": [
    "# https://scitools.org.uk/cartopy/docs/latest/crs/projections.html"
   ]
  },
  {
   "cell_type": "markdown",
   "metadata": {},
   "source": [
    "## Plot Multiple MACA v2 Climate Data Raster Files With a Spatial Projection\n",
    "\n",
    "Below you plot the same data using `cartopy` which support spatial \n",
    "projectsion. The `coastlines()` basemap is also added to the plot. "
   ]
  },
  {
   "cell_type": "code",
   "execution_count": null,
   "metadata": {
    "caption": "Map showing air temperature data on a map using the PlateCarree CRS for two months."
   },
   "outputs": [],
   "source": [
    "central_lat = 37.5\n",
    "central_long = 96\n",
    "extent = [-120, -70, 20, 55.5]  # CONUS\n",
    "\n",
    "map_proj = ccrs.AlbersEqualArea(central_longitude=central_lon,\n",
    "                                central_latitude=central_lat)\n",
    "\n",
    "aspect = two_months_conus.shape[2] / two_months_conus.shape[1]\n",
    "p = two_months_conus.plot(transform=ccrs.PlateCarree(),  # the data's projection\n",
    "                          col='time', col_wrap=1,\n",
    "                          aspect=aspect,\n",
    "                          figsize=(10, 10),\n",
    "                          subplot_kws={'projection': map_proj})  # the plot's projection\n",
    "\n",
    "plt.suptitle(\"Two Time Steps of CONUS Historic Temperature Data\", y=1)\n",
    "# Add the coastlines to each axis object and set extent\n",
    "for ax in p.axes.flat:\n",
    "    ax.coastlines()\n",
    "    ax.set_extent(extent)"
   ]
  },
  {
   "cell_type": "markdown",
   "metadata": {},
   "source": [
    "## Export Raster to Geotiff File \n",
    "\n",
    "In the above workflows you converted your data into a DataFrame and exported\n",
    "it to a .csv file. This approach works well if you only need the summary values\n",
    "and don't need any spatial information. However sometimes you may need to \n",
    "export spatial raster files.\n",
    "\n",
    "You can export your data to a geotiff file format using rioxarray. \n",
    "To do this you will need to:\n",
    "\n",
    "1. ensure that your xarray object has a crs defined and define it if it's missing.\n",
    "2. call xarray to export your data\n",
    "\n",
    "Notice below that your two month subset no long contains CRS information.\n"
   ]
  },
  {
   "cell_type": "code",
   "execution_count": null,
   "metadata": {},
   "outputs": [],
   "source": [
    "# The data no longer have a crs -\n",
    "two_months_conus.rio.crs"
   ]
  },
  {
   "cell_type": "markdown",
   "metadata": {},
   "source": [
    "At the very beginning of this lesson, you saved the crs information \n",
    "from the original xarray object. You can use that to export your geotiff data\n",
    "below."
   ]
  },
  {
   "cell_type": "code",
   "execution_count": null,
   "metadata": {},
   "outputs": [],
   "source": [
    "# Set the crs of your subsetted xarray object\n",
    "two_months_conus.rio.set_crs(climate_crs)\n",
    "two_months_conus.rio.crs"
   ]
  },
  {
   "cell_type": "markdown",
   "metadata": {},
   "source": [
    "Once the crs is set, you can export to a geotiff file format."
   ]
  },
  {
   "cell_type": "code",
   "execution_count": null,
   "metadata": {},
   "outputs": [],
   "source": [
    "# Export to geotiff\n",
    "two_months_conus.rio.to_raster('test.tif')"
   ]
  },
  {
   "cell_type": "markdown",
   "metadata": {},
   "source": [
    "Now test our your data. Reimport it using `xarray.open_rasterio`."
   ]
  },
  {
   "cell_type": "code",
   "execution_count": null,
   "metadata": {},
   "outputs": [],
   "source": [
    "# Open the data up as a geotiff\n",
    "two_months_tiff = xr.open_rasterio('test.tif')\n",
    "two_months_tiff"
   ]
  },
  {
   "cell_type": "markdown",
   "metadata": {},
   "source": [
    "Plot the data. Do you notice anything about the values \n",
    "in the histogram below?"
   ]
  },
  {
   "cell_type": "code",
   "execution_count": null,
   "metadata": {
    "caption": "Histogram showing temperature values for the Continental United States. What do you notice about the range of values?"
   },
   "outputs": [],
   "source": [
    "two_months_tiff.plot()\n",
    "plt.show()"
   ]
  },
  {
   "cell_type": "code",
   "execution_count": null,
   "metadata": {
    "caption": "Plot showing unmasked temperature data (containing nodata values) for the Continental United States."
   },
   "outputs": [],
   "source": [
    "# Plot the data - this doesn't look right!\n",
    "two_months_tiff.plot(col=\"band\")\n",
    "plt.show()"
   ]
  },
  {
   "cell_type": "markdown",
   "metadata": {},
   "source": [
    "The data above are plotting oddly because there are no data \n",
    "values in your array. You can mask those values using `xarray.where()`."
   ]
  },
  {
   "cell_type": "code",
   "execution_count": null,
   "metadata": {},
   "outputs": [],
   "source": [
    "two_months_tiff.rio.nodata"
   ]
  },
  {
   "cell_type": "markdown",
   "metadata": {},
   "source": [
    "Below you use `.where()` to mask all values in your data that are \n",
    "equal to `-9999`, the nodata value for this data."
   ]
  },
  {
   "cell_type": "code",
   "execution_count": null,
   "metadata": {
    "caption": "Plot showing masked temperature data for the Continental United States."
   },
   "outputs": [],
   "source": [
    "# Remove no data values and try to plot again\n",
    "two_months_tiff = xr.open_rasterio('test.tif')\n",
    "two_months_clean = two_months_tiff.where(\n",
    "    two_months_tiff != two_months_tiff.rio.nodata)\n",
    "\n",
    "two_months_clean.plot(col=\"band\")\n",
    "plt.show()"
   ]
  },
  {
   "cell_type": "markdown",
   "metadata": {},
   "source": [
    "Above you learned how to begin to work with NETCDF4 format files containing \n",
    "climate focused data. You learned how to open and subset the data by time and location.\n",
    "In the next lesson you will learn how to implement more complex spatial subsets of your data."
   ]
  }
 ],
 "metadata": {
  "celltoolbar": "Edit Metadata",
  "kernelspec": {
   "display_name": "Python 3",
   "language": "python",
   "name": "python3"
  },
  "language_info": {
   "codemirror_mode": {
    "name": "ipython",
    "version": 3
   },
   "file_extension": ".py",
   "mimetype": "text/x-python",
   "name": "python",
   "nbconvert_exporter": "python",
   "pygments_lexer": "ipython3",
   "version": "3.8.5"
  },
  "toc": {
   "base_numbering": 1,
   "nav_menu": {},
   "number_sections": true,
   "sideBar": true,
   "skip_h1_title": false,
   "title_cell": "Table of Contents",
   "title_sidebar": "Contents",
   "toc_cell": false,
   "toc_position": {
    "height": "calc(100% - 180px)",
    "left": "10px",
    "top": "150px",
    "width": "285.8px"
   },
   "toc_section_display": true,
   "toc_window_display": true
  }
 },
 "nbformat": 4,
 "nbformat_minor": 4
}
