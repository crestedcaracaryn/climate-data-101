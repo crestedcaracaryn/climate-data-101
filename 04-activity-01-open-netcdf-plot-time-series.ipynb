{
 "cells": [
  {
   "cell_type": "markdown",
   "metadata": {},
   "source": [
    "<img style=\"float: left;\" src=\"earth-lab-logo-rgb.png\" width=\"150\" height=\"150\" />\n",
    "\n",
    "# Earth Analytics Education - Climate 101 Workshop"
   ]
  },
  {
   "cell_type": "code",
   "execution_count": 1,
   "metadata": {},
   "outputs": [],
   "source": [
    "# Import packages\n",
    "import numpy as np\n",
    "import pandas as pd\n",
    "import matplotlib.pyplot as plt\n",
    "import netCDF4\n",
    "import xarray as xr\n",
    "import rioxarray\n",
    "import cartopy.crs as ccrs\n",
    "import cartopy.feature as cfeature\n",
    "import seaborn as sns\n",
    "import geopandas as gpd\n",
    "import earthpy as et\n",
    "\n",
    "# Plotting options\n",
    "sns.set(font_scale=1.3)\n",
    "sns.set_style(\"white\")"
   ]
  },
  {
   "cell_type": "markdown",
   "metadata": {},
   "source": [
    "## Challenge 1 - Select Your Data"
   ]
  },
  {
   "cell_type": "code",
   "execution_count": 2,
   "metadata": {},
   "outputs": [],
   "source": [
    "# Model options between 0-19\n",
    "model = 2\n",
    "# Options 0-8 will work for var. Var maps to the variable name below\n",
    "var = 5\n",
    "# Options range from 0-2\n",
    "scenario = 1"
   ]
  },
  {
   "cell_type": "code",
   "execution_count": 3,
   "metadata": {},
   "outputs": [],
   "source": [
    "dir_path = 'http://thredds.northwestknowledge.net:8080/thredds/dodsC/'\n",
    "\n",
    "# These are the variable options for the met data\n",
    "variable_name = ('tasmax', 'tasmin', 'rhsmax',\n",
    "                 'rhsmin', 'pr', 'rsds',\n",
    "                 'uas', 'vas', 'huss')\n",
    "\n",
    "# These are var options in long form\n",
    "var_long_name = ('air_temperature', \n",
    "                 'air_temperature', \n",
    "                 'relative_humidity',\n",
    "                 'relative_humidity',\n",
    "                 'precipitation', \n",
    "                 'surface_downwelling_shortwave_flux_in_air',\n",
    "                 'eastward_wind', \n",
    "                 'northward_wind', \n",
    "                 'specific_humidity')\n",
    "\n",
    "# Models to chose from\n",
    "model_name = ('bcc-csm1-1', \n",
    "              'bcc-csm1-1-m', \n",
    "              'BNU-ESM', \n",
    "              'CanESM2',\n",
    "              'CCSM4', 'CNRM-CM5', 'CSIRO-Mk3-6-0',\n",
    "              'GFDL-ESM2G', 'GFDL-ESM2M', 'HadGEM2-CC365',\n",
    "              'HadGEM2-ES365',\n",
    "              'inmcm4', 'IPSL-CM5A-MR', 'IPSL-CM5A-LR',\n",
    "              'IPSL-CM5B-LR',\n",
    "              'MIROC5', 'MIROC-ESM', 'MIROC-ESM-CHEM',\n",
    "              'MRI-CGCM3', 'NorESM1-M')\n",
    "\n",
    "# Scenarios\n",
    "scenario_type = ('historical', 'rcp45', 'rcp85')\n",
    "\n",
    "# Year start and ends (historical vs projected)\n",
    "year_start = ('1950', '2006', '2006')\n",
    "year_end = ('2005', '2099', '2099')\n",
    "run_num = [1] * 20\n",
    "run_num[4] = 6  # setting CCSM4 with run 6\n",
    "domain = 'CONUS'"
   ]
  },
  {
   "cell_type": "code",
   "execution_count": 4,
   "metadata": {},
   "outputs": [
    {
     "name": "stdout",
     "output_type": "stream",
     "text": [
      "Your selected time period is: 2006_2099\n"
     ]
    }
   ],
   "source": [
    "time = year_start[scenario]+'_' + year_end[scenario]\n",
    "print(\"Your selected time period is:\", time)"
   ]
  },
  {
   "cell_type": "code",
   "execution_count": 5,
   "metadata": {},
   "outputs": [
    {
     "ename": "NameError",
     "evalue": "name 'RUN_NUM' is not defined",
     "output_type": "error",
     "traceback": [
      "\u001b[0;31m---------------------------------------------------------------------------\u001b[0m",
      "\u001b[0;31mNameError\u001b[0m                                 Traceback (most recent call last)",
      "\u001b[0;32m<ipython-input-5-46a56501463d>\u001b[0m in \u001b[0;36m<module>\u001b[0;34m\u001b[0m\n\u001b[1;32m      5\u001b[0m              \u001b[0mstr\u001b[0m\u001b[0;34m(\u001b[0m\u001b[0mmodel_name\u001b[0m\u001b[0;34m[\u001b[0m\u001b[0mmodel\u001b[0m\u001b[0;34m]\u001b[0m\u001b[0;34m)\u001b[0m \u001b[0;34m+\u001b[0m\u001b[0;34m\u001b[0m\u001b[0;34m\u001b[0m\u001b[0m\n\u001b[1;32m      6\u001b[0m              \u001b[0;34m'_r'\u001b[0m \u001b[0;34m+\u001b[0m\u001b[0;34m\u001b[0m\u001b[0;34m\u001b[0m\u001b[0m\n\u001b[0;32m----> 7\u001b[0;31m              \u001b[0mstr\u001b[0m\u001b[0;34m(\u001b[0m\u001b[0mRUN_NUM\u001b[0m\u001b[0;34m[\u001b[0m\u001b[0mmodel\u001b[0m\u001b[0;34m]\u001b[0m\u001b[0;34m)\u001b[0m\u001b[0;34m+\u001b[0m\u001b[0;34m'i1p1_'\u001b[0m \u001b[0;34m+\u001b[0m\u001b[0;34m\u001b[0m\u001b[0;34m\u001b[0m\u001b[0m\n\u001b[0m\u001b[1;32m      8\u001b[0m              \u001b[0mstr\u001b[0m\u001b[0;34m(\u001b[0m\u001b[0mscenario_type\u001b[0m\u001b[0;34m[\u001b[0m\u001b[0mscenario\u001b[0m\u001b[0;34m]\u001b[0m\u001b[0;34m)\u001b[0m \u001b[0;34m+\u001b[0m\u001b[0;34m\u001b[0m\u001b[0;34m\u001b[0m\u001b[0m\n\u001b[1;32m      9\u001b[0m              \u001b[0;34m'_'\u001b[0m \u001b[0;34m+\u001b[0m\u001b[0;34m\u001b[0m\u001b[0;34m\u001b[0m\u001b[0m\n",
      "\u001b[0;31mNameError\u001b[0m: name 'RUN_NUM' is not defined"
     ]
    }
   ],
   "source": [
    "# This is only going to provide monthly data\n",
    "file_name = ('agg_macav2metdata_' +\n",
    "             str(variable_name[var]) +\n",
    "             '_' +\n",
    "             str(model_name[model]) +\n",
    "             '_r' +\n",
    "             str(RUN_NUM[model])+'i1p1_' +\n",
    "             str(scenario_type[scenario]) +\n",
    "             '_' +\n",
    "             time + '_' +\n",
    "             domain + '_monthly.nc')\n",
    "\n",
    "print(\"You are accessing:\\n\", file_name, \"\\n data in netcdf format\")"
   ]
  },
  {
   "cell_type": "code",
   "execution_count": null,
   "metadata": {},
   "outputs": [],
   "source": [
    "full_file_path = dir_path + file_name\n",
    "full_file_path"
   ]
  },
  {
   "cell_type": "markdown",
   "metadata": {},
   "source": [
    "## Challenge 2 - Run the Cell Below to Open Your Data\n",
    "\n",
    "Run the cell below to open your dataset.\n"
   ]
  },
  {
   "cell_type": "code",
   "execution_count": null,
   "metadata": {},
   "outputs": [],
   "source": [
    "# Open the data\n",
    "with xr.open_dataset(full_file_path) as file_nc:\n",
    "    max_temp_xr = file_nc\n",
    "\n",
    "# View xarray object\n",
    "max_temp_xr"
   ]
  },
  {
   "cell_type": "markdown",
   "metadata": {},
   "source": [
    "## Challenge 3 - Subset Your Data\n",
    "\n",
    "Add text here that tells them to select a lat / lon and start and end time below...\n",
    "you can populate the cell below with a starting set of values. \n",
    "\n",
    "Ok nathan - please add the following to this notebook. take a workflow from the intro to netcdf notebook\n",
    "that opens the data / slices it and calculates a max value for each time step.\n",
    "\n",
    "Then plot the data (challenge 4 below)\n",
    "\n",
    "Add code to slice the data by both TIME and lat / lon\n",
    "\n",
    "Nathan here you will add all of the code needed to produce the plots\n"
   ]
  },
  {
   "cell_type": "code",
   "execution_count": null,
   "metadata": {},
   "outputs": [],
   "source": [
    "# NATHAN - populate these with example lat / long and times that will make the notebook run.\n",
    "# The challenge will then  be for them to adjust the code in this cell and then the notebook will\n",
    "# Plot a time series of max precip for each time step in the range they choose.\n",
    "latitude =1\n",
    "longitude =1\n",
    "time_start =1\n",
    "time_end = 1"
   ]
  },
  {
   "cell_type": "code",
   "execution_count": null,
   "metadata": {},
   "outputs": [],
   "source": [
    "# Nathan add a few cells that calculate a max value for each time step and then a cell that plots the data\n",
    "\n",
    "# Maybe on the plot cell you can tell them to change the title??"
   ]
  },
  {
   "cell_type": "markdown",
   "metadata": {},
   "source": [
    "## Challenge 4 - Modify your plot\n",
    "\n",
    "Add code below to plot the data as a time series. Then give them instructions to modify the colors, title, etc"
   ]
  },
  {
   "cell_type": "markdown",
   "metadata": {},
   "source": [
    "## Challenge 5  - Export your data to a csv file\n",
    "\n",
    "In the cell below, export the data that you processed above to a dataframe and then a .csv file. \n",
    "You can open up and view the `.csv` file using the jupyterHub"
   ]
  },
  {
   "cell_type": "code",
   "execution_count": null,
   "metadata": {},
   "outputs": [],
   "source": [
    "# Your code here"
   ]
  }
 ],
 "metadata": {
  "kernelspec": {
   "display_name": "Python 3",
   "language": "python",
   "name": "python3"
  },
  "language_info": {
   "codemirror_mode": {
    "name": "ipython",
    "version": 3
   },
   "file_extension": ".py",
   "mimetype": "text/x-python",
   "name": "python",
   "nbconvert_exporter": "python",
   "pygments_lexer": "ipython3",
   "version": "3.8.5"
  },
  "toc": {
   "base_numbering": 1,
   "nav_menu": {},
   "number_sections": true,
   "sideBar": true,
   "skip_h1_title": false,
   "title_cell": "Table of Contents",
   "title_sidebar": "Contents",
   "toc_cell": false,
   "toc_position": {},
   "toc_section_display": true,
   "toc_window_display": true
  }
 },
 "nbformat": 4,
 "nbformat_minor": 4
}
