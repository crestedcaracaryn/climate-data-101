{
 "cells": [
  {
   "cell_type": "markdown",
   "metadata": {},
   "source": [
    "<img style=\"float: left;\" src=\"earth-lab-logo-rgb.png\" width=\"150\" height=\"150\" />\n",
    "\n",
    "# Earth Analytics Education - Climate 101 Workshop"
   ]
  },
  {
   "cell_type": "markdown",
   "metadata": {},
   "source": [
    "## Interactive Data Activity: Subset Data by Spatial Location\n",
    "\n",
    "This notebook demonstrates the capabilities of using **Python** to work with climate data. You will be using packages such as **xarray** to open and manipulate climate data into a meaningful graph. "
   ]
  },
  {
   "cell_type": "code",
   "execution_count": null,
   "metadata": {},
   "outputs": [],
   "source": [
    "# Import packages\n",
    "import os\n",
    "\n",
    "import numpy as np\n",
    "import matplotlib.pyplot as plt\n",
    "import seaborn as sns\n",
    "import rioxarray\n",
    "import xarray as xr\n",
    "import regionmask\n",
    "import geopandas as gpd\n",
    "import earthpy as et\n",
    "\n",
    "# Plotting options\n",
    "sns.set(font_scale=1.3)\n",
    "sns.set_style(\"white\")"
   ]
  },
  {
   "cell_type": "code",
   "execution_count": null,
   "metadata": {},
   "outputs": [],
   "source": [
    "# Setting the working dir with your data\n",
    "ea_path = os.path.join(et.io.HOME, 'earth-analytics', 'data')\n",
    "\n",
    "if not os.path.exists(ea_path):\n",
    "    os.makedirs(ea_path)\n",
    "\n",
    "os.chdir(ea_path)"
   ]
  },
  {
   "cell_type": "markdown",
   "metadata": {},
   "source": [
    "## Challenge 1 - Select Your Data\n",
    "\n",
    "Similar to the previous activity, you will first select the data you wish to work  with.\n",
    "\n",
    "The data you are using is a monthly summary of lots of meteorological data, such as precipitation, air temperature, and more. The data has been downscaled from CMIP5 data using one of many climate models. \n",
    "\n",
    "Below, you will assign three python variables that will setup what data are downloaded\n",
    "for analysis in this notebook. \n",
    "\n",
    "* `model = ` can be set to any number between 0 and 19. You can see the list of models you are choosing from in the cell two below this one. The models are listed after `model_name = ` All of the models are different models for how the climate will change going into the future. There are 20 options for models, and to pick one you can assign `model = ` to any number between 0 and 19, where 0 is the first option in the list, and 19 is the last. \n",
    "\n",
    "* `var = ` is the variable in the dataset you want to be analyzed. You can see the variables in the cell two below this one. The variables are listed after `var_long_name = `. The variables are as described by the variable name, so `air_temperature` is the aggregate air temperature for each month, for example. There are 9 options for variables, and to pick one you can assign `var = ` to any number between 0 and 8, where 0 is the first option in the list, and 8 is the last. \n",
    "\n",
    "* `scenario = ` represents which climate scenario you want to pull your data from. `0` is the historical data and doesn't include any modeling. `1` is the `rcp45` scenario, which is described as an intermediate climate scenario. `2` is the `rcp85` scenario, which is a worst case (emissions) climate scenario. "
   ]
  },
  {
   "cell_type": "code",
   "execution_count": null,
   "metadata": {},
   "outputs": [],
   "source": [
    "# Model options between 0-19\n",
    "model = 2\n",
    "# Options 0-8 will work for var. Var maps to the variable name below\n",
    "var = 4\n",
    "# Options range from 0-2\n",
    "scenario = 1"
   ]
  },
  {
   "cell_type": "code",
   "execution_count": null,
   "metadata": {},
   "outputs": [],
   "source": [
    "dir_path = 'http://thredds.northwestknowledge.net:8080/thredds/dodsC/'\n",
    "\n",
    "# These are the variable options for the met data\n",
    "variable_name = ('tasmax',\n",
    "                 'tasmin',\n",
    "                 'rhsmax',\n",
    "                 'rhsmin',\n",
    "                 'pr',\n",
    "                 'rsds',\n",
    "                 'uas',\n",
    "                 'vas',\n",
    "                 'huss')\n",
    "\n",
    "# These are var options in long form\n",
    "var_long_name = ('air_temperature',\n",
    "                 'air_temperature',\n",
    "                 'relative_humidity',\n",
    "                 'relative_humidity',\n",
    "                 'precipitation',\n",
    "                 'surface_downwelling_shortwave_flux_in_air',\n",
    "                 'eastward_wind',\n",
    "                 'northward_wind',\n",
    "                 'specific_humidity')\n",
    "\n",
    "# Models to chose from\n",
    "model_name = ('bcc-csm1-1',\n",
    "              'bcc-csm1-1-m',\n",
    "              'BNU-ESM',\n",
    "              'CanESM2',\n",
    "              'CCSM4',\n",
    "              'CNRM-CM5',\n",
    "              'CSIRO-Mk3-6-0',\n",
    "              'GFDL-ESM2G',\n",
    "              'GFDL-ESM2M',\n",
    "              'HadGEM2-CC365',\n",
    "              'HadGEM2-ES365',\n",
    "              'inmcm4',\n",
    "              'IPSL-CM5A-MR',\n",
    "              'IPSL-CM5A-LR',\n",
    "              'IPSL-CM5B-LR',\n",
    "              'MIROC5',\n",
    "              'MIROC-ESM',\n",
    "              'MIROC-ESM-CHEM',\n",
    "              'MRI-CGCM3',\n",
    "              'NorESM1-M')\n",
    "\n",
    "# Scenarios\n",
    "scenario_type = ('historical', 'rcp45', 'rcp85')\n",
    "\n",
    "# Year start and ends (historical vs projected)\n",
    "year_start = ('1950', '2006', '2006')\n",
    "year_end = ('2005', '2099', '2099')\n",
    "run_num = [1] * 20\n",
    "run_num[4] = 6  # setting CCSM4 with run 6\n",
    "domain = 'CONUS'"
   ]
  },
  {
   "cell_type": "code",
   "execution_count": null,
   "metadata": {},
   "outputs": [],
   "source": [
    "climate_variable = var_long_name[var]\n",
    "print(\"\\u2705 You have chosen to work with\", climate_variable, \"data\")"
   ]
  },
  {
   "cell_type": "code",
   "execution_count": null,
   "metadata": {},
   "outputs": [],
   "source": [
    "time = year_start[scenario]+'_' + year_end[scenario]\n",
    "print(\"\\u2705 Your selected time period is:\", time)"
   ]
  },
  {
   "cell_type": "code",
   "execution_count": null,
   "metadata": {},
   "outputs": [],
   "source": [
    "# This is only going to provide monthly data\n",
    "file_name = ('agg_macav2metdata_' +\n",
    "             str(variable_name[var]) +\n",
    "             '_' +\n",
    "             str(model_name[model]) +\n",
    "             '_r' +\n",
    "             str(run_num[model])+'i1p1_' +\n",
    "             str(scenario_type[scenario]) +\n",
    "             '_' +\n",
    "             time + '_' +\n",
    "             domain + '_monthly.nc')\n",
    "\n",
    "print(\"\\u2705 You are accessing:\\n\", file_name, \"\\n data in netcdf format\")"
   ]
  },
  {
   "cell_type": "code",
   "execution_count": null,
   "metadata": {},
   "outputs": [],
   "source": [
    "full_file_path = dir_path + file_name\n",
    "print(\"\\u2705 the url to your data is:\", full_file_path)"
   ]
  },
  {
   "cell_type": "markdown",
   "metadata": {},
   "source": [
    "## Challenge 2 - Run the Cell Below to Open Your Data\n",
    "\n",
    "Run the cell below to open your dataset using xarray.\n"
   ]
  },
  {
   "cell_type": "code",
   "execution_count": null,
   "metadata": {},
   "outputs": [],
   "source": [
    "# Open the data\n",
    "with xr.open_dataset(full_file_path) as file_nc:\n",
    "    climate_data_xr = file_nc\n",
    "\n",
    "# View xarray object\n",
    "climate_data_xr"
   ]
  },
  {
   "cell_type": "markdown",
   "metadata": {},
   "source": [
    "The cell below grabs the coordinate reference system for your data. \n",
    "This step is only important if you want to export geotiff raster files\n",
    "at the end of your analysis. \n",
    "\n",
    "A geotiff file would make it easy to open up your outputs in a tool\n",
    "such as ArcGis. "
   ]
  },
  {
   "cell_type": "code",
   "execution_count": null,
   "metadata": {},
   "outputs": [],
   "source": [
    "# Grab the coordinate reference system for the data\n",
    "climate_crs = climate_data_xr.rio.crs\n",
    "climate_crs"
   ]
  },
  {
   "cell_type": "markdown",
   "metadata": {},
   "source": [
    "## Create a Spatial Subset\n",
    "\n",
    "In the previous activity, you only selected a single point location\n",
    "and plotted change in your selected climate variable over time. Here\n",
    "you will subset the data using a spatial region.\n",
    "\n",
    "First you will open up a dataset from the natural earth website containing\n",
    "boundaries for all of the states in the United States."
   ]
  },
  {
   "cell_type": "code",
   "execution_count": null,
   "metadata": {},
   "outputs": [],
   "source": [
    "# Download natural earth data which contains state boundaries to generate AOI\n",
    "et.data.get_data(\n",
    "    url=\"https://www.naturalearthdata.com/http//www.naturalearthdata.com/download/50m/cultural/ne_50m_admin_1_states_provinces_lakes.zip\")\n",
    "\n",
    "states_path = \"earthpy-downloads/ne_50m_admin_1_states_provinces_lakes\"\n",
    "states_path = os.path.join(\n",
    "    states_path, \"ne_50m_admin_1_states_provinces_lakes.shp\")\n",
    "\n",
    "states_gdf = gpd.read_file(states_path)\n",
    "states_gdf.name"
   ]
  },
  {
   "cell_type": "markdown",
   "metadata": {},
   "source": [
    "## Challenge 3: Select the State AOI For Your Analysis\n",
    "\n",
    "In this activity you are performing an analysis for a single state in the \n",
    "continental United States. Below the default state set is California.\n",
    "\n",
    "However you can select any of hte states in the continental USA.\n",
    "Change the state selection below to something other than California.\n"
   ]
  },
  {
   "cell_type": "code",
   "execution_count": null,
   "metadata": {},
   "outputs": [],
   "source": [
    "state = \"California\"\n",
    "print(\"\\u2705 Great you selected \\U0001F929\",\n",
    "      state, \"\\U0001F929 for your analysis.\")"
   ]
  },
  {
   "cell_type": "code",
   "execution_count": null,
   "metadata": {},
   "outputs": [],
   "source": [
    "cali_aoi = states_gdf[states_gdf.name == state]\n",
    "# Get the total spatial extent for California\n",
    "print(\"\\u2705 The extent for your data subset is:\", cali_aoi.total_bounds)"
   ]
  },
  {
   "cell_type": "code",
   "execution_count": null,
   "metadata": {},
   "outputs": [],
   "source": [
    "# This is the AOI of interest. You only want to calculate summary values for\n",
    "# pixels within this AOI rather the entire rectangular spatial extent.\n",
    "f, ax = plt.subplots()\n",
    "cali_aoi.plot(ax=ax)\n",
    "title = state + \" AOI Subset\"\n",
    "ax.set(title=title)\n",
    "\n",
    "plt.show()"
   ]
  },
  {
   "cell_type": "markdown",
   "metadata": {},
   "source": [
    "### Get Data Extent for Spatial Subset\n",
    "\n",
    "In the step below you convert the bounds for your selected\n",
    "state into lat / lon values. This could be done with a simple\n",
    "helper function if you want to do this over and over!"
   ]
  },
  {
   "cell_type": "code",
   "execution_count": null,
   "metadata": {},
   "outputs": [],
   "source": [
    "# Get lat min, max\n",
    "aoi_lat = [float(cali_aoi.total_bounds[1]), float(cali_aoi.total_bounds[3])]\n",
    "aoi_lon = [float(cali_aoi.total_bounds[0]), float(cali_aoi.total_bounds[2])]\n",
    "# Notice that the longitude values have negative numbers\n",
    "# we need these values in a global crs so we can subtract from 360\n",
    "aoi_lat, aoi_lon"
   ]
  },
  {
   "cell_type": "code",
   "execution_count": null,
   "metadata": {},
   "outputs": [],
   "source": [
    "# The netcdf files use a global lat/lon so adjust values accordingly\n",
    "aoi_lon[0] = aoi_lon[0] + 360\n",
    "aoi_lon[1] = aoi_lon[1] + 360\n",
    "aoi_lon"
   ]
  },
  {
   "cell_type": "markdown",
   "metadata": {},
   "source": [
    "### Create Mask Of Your Area of Interest (AOI)\n",
    "\n",
    "In the step above you create a spatial extent. This extent\n",
    "is a box representing the min and max x and y values for your\n",
    "data. However, for this analysis you only want to include \n",
    "pixels that are contained within the actual boundary of \n",
    "your AOI which is a state boundary. \n",
    "\n",
    "Below, you create a mask using `regionmask`"
   ]
  },
  {
   "cell_type": "code",
   "execution_count": null,
   "metadata": {},
   "outputs": [],
   "source": [
    "state_mask = regionmask.mask_3D_geopandas(cali_aoi,\n",
    "                                          climate_data_xr.lon,\n",
    "                                          climate_data_xr.lat)\n",
    "# Notice this is just a boolean (true / false) array\n",
    "# Any values that are true are within your AOI\n",
    "state_mask"
   ]
  },
  {
   "cell_type": "markdown",
   "metadata": {},
   "source": [
    "## Challenge 4: Select a Temporal & Spatial Subset\n",
    "\n",
    "In the previous challenge, you subsetted the data by time and for a single location.\n",
    "Here you will select a time span to subset your data for. \n",
    "\n",
    "The code will use the state subset that you selected above to then subset the \n",
    "climate data for only the region of interest (the state) that you selected.\n",
    "Modify the start and end date BUT make sure that the dates that you \n",
    "select are within the range of dates available in your data!"
   ]
  },
  {
   "cell_type": "code",
   "execution_count": null,
   "metadata": {},
   "outputs": [],
   "source": [
    "print(\"\\u2705 The earliest time period in your data is: \",\n",
    "      climate_data_xr.time.values.min())\n",
    "print(\"\\u2705 The latest time period in your data is: \",\n",
    "      climate_data_xr.time.values.max())"
   ]
  },
  {
   "cell_type": "code",
   "execution_count": null,
   "metadata": {},
   "outputs": [],
   "source": [
    "# Slice the data by time and spatial extent\n",
    "start_date = \"2010-01-15\"\n",
    "end_date = \"2010-02-15\""
   ]
  },
  {
   "cell_type": "markdown",
   "metadata": {},
   "source": [
    "### Subset Your Data By Time and Spatial Extent\n",
    "\n",
    "Below you subset your data using the start and end time that you selected above\n",
    "and also the extent latitude and longitude values that you extracted\n",
    "from your area of interest (the state that you selected)."
   ]
  },
  {
   "cell_type": "code",
   "execution_count": null,
   "metadata": {},
   "outputs": [],
   "source": [
    "# Subset the data by time and aoi\n",
    "climate_data_subset = climate_data_xr[climate_variable].sel(\n",
    "    time=slice(start_date, end_date),\n",
    "    lon=slice(aoi_lon[0], aoi_lon[1]),\n",
    "    lat=slice(aoi_lat[0], aoi_lat[1]))\n",
    "climate_data_subset"
   ]
  },
  {
   "cell_type": "markdown",
   "metadata": {},
   "source": [
    "## Challenge 5 - Plot Data & Modify Plot Columns\n",
    "\n",
    "If you want, modify the code below. See what happens when you set `col_wrap` to 2. \n",
    "\n",
    "What do you notice about the data below? Do you see data values (colors representing \n",
    "pixel values) ONLY for the state of California or do you see values for locations\n",
    "outside of the state of california?\n",
    "\n",
    "Any idea what is happening here?"
   ]
  },
  {
   "cell_type": "code",
   "execution_count": null,
   "metadata": {},
   "outputs": [],
   "source": [
    "# You can adjust the col_wrap option below to specify how many columns you want\n",
    "# In the plot below\n",
    "climate_data_subset.plot(col=\"time\",\n",
    "                         col_wrap=1)\n",
    "plt.show()"
   ]
  },
  {
   "cell_type": "markdown",
   "metadata": {},
   "source": [
    "## Challenge 6 - Mask Your Data\n",
    "\n",
    "The data in the plot above are still not subsetted to only include values\n",
    "within the state of california. There is one last step to implement - masking \n",
    "the data using the mask that you created above.\n",
    "\n",
    "Below you use the `.where()` method and the mask object that you created above to \n",
    "mask your data. "
   ]
  },
  {
   "cell_type": "code",
   "execution_count": null,
   "metadata": {},
   "outputs": [],
   "source": [
    "masked_data = climate_data_subset.where(state_mask)\n",
    "\n",
    "masked_data.plot(col=\"time\",\n",
    "                 col_wrap=1)\n",
    "plt.show()"
   ]
  },
  {
   "cell_type": "markdown",
   "metadata": {},
   "source": [
    "## Challenge 7  - Export your data to a Geotiff File\n",
    "\n",
    "As long as your subset doesn't contain too many layers, you can use rioxarray\n",
    "to export  each raster above into a stacked geotiff file. If you only\n",
    "want the data as a raster and don't need to do any additional processing,\n",
    "you can simply export the data at this point using rioxarray.\n",
    "\n",
    "Run the cells below to save the data as a raster file.\n",
    "You will then open the data back up below to make sure\n",
    "you saved it correctly."
   ]
  },
  {
   "cell_type": "code",
   "execution_count": null,
   "metadata": {},
   "outputs": [],
   "source": [
    "# Add a crs to your subset (you are using the crs from the top of this notebook)\n",
    "masked_data.rio.set_crs(climate_crs)\n",
    "masked_data.rio.crs"
   ]
  },
  {
   "cell_type": "code",
   "execution_count": null,
   "metadata": {},
   "outputs": [],
   "source": [
    "masked_data.shape"
   ]
  },
  {
   "cell_type": "code",
   "execution_count": null,
   "metadata": {},
   "outputs": [],
   "source": [
    "#  This drops the 4th dimension which is region\n",
    "masked_data[:, :, :, 0].shape"
   ]
  },
  {
   "cell_type": "code",
   "execution_count": null,
   "metadata": {},
   "outputs": [],
   "source": [
    "# Export to geotiff - note that because the data have a 4th dimension (a region)\n",
    "# we are subsetting the data using\n",
    "masked_data[:, :, :, 0].rio.to_raster('subset_climate_raster_data.tif')"
   ]
  },
  {
   "cell_type": "code",
   "execution_count": null,
   "metadata": {},
   "outputs": [],
   "source": [
    "# Open the data up as a geotiff and plot the data!\n",
    "saved_raster = xr.open_rasterio('subset_climate_raster_data.tif')\n",
    "saved_raster.plot(col=\"band\")\n",
    "plt.show()"
   ]
  },
  {
   "cell_type": "markdown",
   "metadata": {},
   "source": [
    "##  Congratulations!!\n",
    "\n",
    "You have successfully subsetted a dataset by an aoi and  exported it as a raster."
   ]
  }
 ],
 "metadata": {
  "kernelspec": {
   "display_name": "Python 3",
   "language": "python",
   "name": "python3"
  },
  "language_info": {
   "codemirror_mode": {
    "name": "ipython",
    "version": 3
   },
   "file_extension": ".py",
   "mimetype": "text/x-python",
   "name": "python",
   "nbconvert_exporter": "python",
   "pygments_lexer": "ipython3",
   "version": "3.8.5"
  },
  "toc": {
   "base_numbering": 1,
   "nav_menu": {},
   "number_sections": true,
   "sideBar": true,
   "skip_h1_title": false,
   "title_cell": "Table of Contents",
   "title_sidebar": "Contents",
   "toc_cell": false,
   "toc_position": {},
   "toc_section_display": true,
   "toc_window_display": true
  }
 },
 "nbformat": 4,
 "nbformat_minor": 4
}
